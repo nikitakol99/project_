{
 "cells": [
  {
   "cell_type": "markdown",
   "metadata": {
    "id": "csrK3FWeV9w2"
   },
   "source": [
    "# Домашнее задание 2"
   ]
  },
  {
   "cell_type": "markdown",
   "metadata": {
    "id": "ZtkRzv8RdQ1R"
   },
   "source": [
    "## Информация перед выполнением"
   ]
  },
  {
   "cell_type": "markdown",
   "metadata": {
    "id": "tEFHV_RPWBOM"
   },
   "source": [
    "**Указания:**\n",
    "\n",
    "1. Отвечать на вопросы в чате надо описанием идеи или ссылкой на источники - не лишайте других радости от **самостоятельно** найденного решения!\n",
    "2. Перед отправкой на проверку перезапустите ядро и запустите подряд все ячейки. Это можно сделать руками, а можно через Kernel --> Restart Kernel and Run All Cells, но второй вариант сработает только если ячейки запускаются без ошибок). Если есть ошибки, которые вы хотите показать проверяющему, то продолжите выполнять ячейки руками.\n",
    "3. Если какую-то задачу сделать не получилось, то виде **комментария к ячейке** с кодом этой задачи опишите свой ход мыслей или вопрос. **Комментарий к ячейке** вы можете оставить **только** в колабе: ПКМ по ячейке --> \"оставить комментарий\". Так проверяющий сможет вам помочь.\n",
    "4. Нерешенные задачи без вашего **комментария к ячейке** считаются нетронутыми, даже если в них есть код.\n",
    "5. Максимум за задание 15 первичных баллов\n",
    "6. Итоговая оценка ставится по формуле: `сумма_баллов // 3`"
   ]
  },
  {
   "cell_type": "markdown",
   "metadata": {
    "id": "-rkPxOr4cNBB"
   },
   "source": [
    "**Примечания и советы:**\n",
    "\n",
    "- Называйте переменные осмысленно\n",
    "- Сначала решите все задачи, которые сразу понимаете как решать\n",
    "- Если застряли на какой-то задаче, то попробуйте переключиться на другую\n",
    "- Стиль оформления кода должен соответствовать PEP8; строго это не отслеживается, но в случае злоупотреблений вас попросят переписать\n",
    "- Проверьте, что все ячейки выполняются без ошибок\n",
    "- В отправляемом на проверку ноутбуке не должно быть черновых ячеек - за них будут сниматься баллы\n",
    "- Проверяющий запускает код только при необходимости для проверки на собственных тестах"
   ]
  },
  {
   "cell_type": "markdown",
   "metadata": {
    "id": "OuBLI-hqdQ1T"
   },
   "source": [
    "**Для статистики:**\n",
    "\n",
    "- Просьба указывать используемые источники (в виде текстовой ячейки после кода), если вы нашли решение/идею/подсказку/etc в интернете/чате/etc.\n",
    "- Если таких источников несколько - просьба указать хотя бы 2-3 основных.\n",
    "- Если вы взяли чужое решение задачи, об этом также нужно указать."
   ]
  },
  {
   "cell_type": "markdown",
   "metadata": {
    "id": "TMYEVlUedQ1T"
   },
   "source": [
    "Если вы прочитали все пункты, поменяйте значение переменной `i_have_read_all_the_information` в коде ниже на `True` и запустите ячейку."
   ]
  },
  {
   "cell_type": "code",
   "metadata": {
    "id": "SDIxV2V3dQ1T",
    "ExecuteTime": {
     "end_time": "2025-04-04T19:46:18.028897Z",
     "start_time": "2025-04-04T19:46:18.022713Z"
    }
   },
   "source": [
    "i_have_read_all_the_information = True\n",
    "\n",
    "assert i_have_read_all_the_information"
   ],
   "outputs": [],
   "execution_count": 1
  },
  {
   "cell_type": "markdown",
   "metadata": {
    "id": "4i8MlqSvYpar"
   },
   "source": [
    "# Часть 1. (8.5)"
   ]
  },
  {
   "cell_type": "markdown",
   "metadata": {
    "id": "IBgp0rEldQ1V"
   },
   "source": [
    "## Задача 1 (1)"
   ]
  },
  {
   "cell_type": "markdown",
   "metadata": {
    "id": "Q93AZNgUdQ1V"
   },
   "source": [
    "Напечатайте таблицу всех двоичных чисел длины `n` и соответствующие им числа в десятичной системе. Формат вывода как в примере."
   ]
  },
  {
   "cell_type": "markdown",
   "metadata": {
    "id": "VSgmvVFMdQ1V"
   },
   "source": [
    "**Пример для n = 2:**\n",
    "\n",
    "```\n",
    "00 - 0\n",
    "01 - 1\n",
    "10 - 2\n",
    "11 - 3\n",
    "```"
   ]
  },
  {
   "cell_type": "code",
   "metadata": {
    "id": "jgiJEd78dQ1V",
    "ExecuteTime": {
     "end_time": "2025-04-04T19:46:20.716982Z",
     "start_time": "2025-04-04T19:46:20.713817Z"
    }
   },
   "source": [
    "n = 4"
   ],
   "outputs": [],
   "execution_count": 2
  },
  {
   "cell_type": "code",
   "metadata": {
    "id": "cME19c7adQ1V",
    "ExecuteTime": {
     "end_time": "2025-04-04T19:46:21.102294Z",
     "start_time": "2025-04-04T19:46:21.099272Z"
    }
   },
   "source": [
    "for i in range(2**n):\n",
    "    binary = format(i, '0' + str(n) + 'b')  # Преобразуем число в двоичное с ведущими нулями\n",
    "    print(f\"{binary} - {i}\")"
   ],
   "outputs": [
    {
     "name": "stdout",
     "output_type": "stream",
     "text": [
      "0000 - 0\n",
      "0001 - 1\n",
      "0010 - 2\n",
      "0011 - 3\n",
      "0100 - 4\n",
      "0101 - 5\n",
      "0110 - 6\n",
      "0111 - 7\n",
      "1000 - 8\n",
      "1001 - 9\n",
      "1010 - 10\n",
      "1011 - 11\n",
      "1100 - 12\n",
      "1101 - 13\n",
      "1110 - 14\n",
      "1111 - 15\n"
     ]
    }
   ],
   "execution_count": 3
  },
  {
   "cell_type": "markdown",
   "metadata": {
    "id": "j4X1L5S3dQ1V"
   },
   "source": [
    "## Задача 2 (0.3)"
   ]
  },
  {
   "cell_type": "markdown",
   "metadata": {
    "id": "ujm7moxFdQ1V"
   },
   "source": [
    "Создайте строку `\"\"\"'''\\/'''\"\"\"` (это надо сделать одним литералом) и положите ее в переменную `quotes`. В этой строке ровно 14 символов."
   ]
  },
  {
   "cell_type": "code",
   "metadata": {
    "id": "URLrVFILdQ1V",
    "scrolled": true,
    "ExecuteTime": {
     "end_time": "2025-04-04T19:46:22.299652Z",
     "start_time": "2025-04-04T19:46:22.297317Z"
    }
   },
   "source": [
    "quotes = '\"\"\"\\'\\'\\'\\\\/\\'\\'\\'\"\"\"' #господи, ну наконец-то!!!!"
   ],
   "outputs": [],
   "execution_count": 4
  },
  {
   "cell_type": "markdown",
   "metadata": {
    "id": "5Cbmm1qldQ1W"
   },
   "source": [
    "Если вы все сделали правильно, то после следующей ячейки вы увидите надпись \"тесты пройдены\":"
   ]
  },
  {
   "cell_type": "code",
   "metadata": {
    "id": "C3Y1MW6_dQ1W",
    "ExecuteTime": {
     "end_time": "2025-04-04T19:46:23.313497Z",
     "start_time": "2025-04-04T19:46:23.309500Z"
    }
   },
   "source": [
    "# tests\n",
    "\n",
    "assert len(quotes) == 14, 'в вашей строке не 14 символов'\n",
    "assert quotes[0] == quotes[1] == quotes[2] == quotes[11] == quotes[12] == quotes[13] == '\"'\n",
    "assert quotes[3] == quotes[4] == quotes[5] == quotes[8] == quotes[9] == quotes[10] == \"'\"\n",
    "assert quotes[6] == '\\\\'\n",
    "assert quotes[7] == '/'\n",
    "\n",
    "print('тесты пройдены')"
   ],
   "outputs": [
    {
     "name": "stdout",
     "output_type": "stream",
     "text": [
      "тесты пройдены\n"
     ]
    }
   ],
   "execution_count": 5
  },
  {
   "cell_type": "markdown",
   "metadata": {
    "id": "IGsG3l8YdQ1W"
   },
   "source": [
    "## Задача 3 (0.3)"
   ]
  },
  {
   "cell_type": "markdown",
   "metadata": {
    "id": "WJbmS5YtdQ1W"
   },
   "source": [
    "Очистите `text`:\n",
    "\n",
    "- замените несколько подряд идущих пробелов одним пробелом\n",
    "- удалите лишние пробелы в начале и конце строки\n",
    "- используйте строковые методы"
   ]
  },
  {
   "cell_type": "code",
   "metadata": {
    "id": "i2IcYq9sdQ1W",
    "ExecuteTime": {
     "end_time": "2025-04-04T19:46:24.663540Z",
     "start_time": "2025-04-04T19:46:24.660526Z"
    }
   },
   "source": [
    "text = ' You will   probably  need          this     trick to   prepare data  for NLP tasks!  '"
   ],
   "outputs": [],
   "execution_count": 6
  },
  {
   "cell_type": "code",
   "metadata": {
    "id": "aKiaKzNldQ1W",
    "ExecuteTime": {
     "end_time": "2025-04-04T19:46:25.021731Z",
     "start_time": "2025-04-04T19:46:25.018891Z"
    }
   },
   "source": [
    "correct_text = ' '.join(text.split())\n",
    "print(correct_text)"
   ],
   "outputs": [
    {
     "name": "stdout",
     "output_type": "stream",
     "text": [
      "You will probably need this trick to prepare data for NLP tasks!\n"
     ]
    }
   ],
   "execution_count": 7
  },
  {
   "cell_type": "markdown",
   "metadata": {
    "id": "8-MFZQ3xLIlU"
   },
   "source": [
    "## Задача 4 (1)"
   ]
  },
  {
   "cell_type": "markdown",
   "metadata": {
    "id": "FbB15RNreEwU"
   },
   "source": [
    "Эта задача состоит из _последовательного_ выполнения нескольких пунктов.\n",
    "\n",
    "1. Прочитайте текст переменной `python_text`\n",
    "2. Создайте переменную `cleared_python_text`, _удалив_ (заменив на пустую строку) все небуквенные символы из строки `python_text` (оставьте **только** буквы, цифры и пробельные символы)\n",
    "3. Приведите строку `cleared_python_text` к нижнему регистру\n",
    "4. Создайте список `python_words`, состоящий из слов строки `cleared_python_text`.\n",
    "5. Выведите длину получившегося списка `python_words`.\n",
    "\n",
    "**Подсказки:**\n",
    "- в модуле `string` есть интересные константы с символами\n",
    "- используйте строковые методы\n",
    "- выполняйте задачу, представляя, будто вы не знаете, что надо выполнить в следующем пункте\n",
    "- про пункт 4 или что считается \"словом\" в последовательности символов: максимальная по включению непустая последовательность символов без пробельных. Пример (см середину текста ниже): `1991` словом является, а `199` или `991` - нет.\n"
   ]
  },
  {
   "cell_type": "code",
   "metadata": {
    "id": "CF2q1lHnLIlU",
    "tags": [],
    "ExecuteTime": {
     "end_time": "2025-04-04T19:46:34.376319Z",
     "start_time": "2025-04-04T19:46:34.366683Z"
    }
   },
   "source": [
    "python_text = \"\"\"\n",
    "Python is an interpreted high-level general-purpose programming language. Python's design\n",
    "philosophy emphasizes code readability with its notable use of significant indentation. Its\n",
    "language constructs as well as its object-oriented approach aim to help programmers write clear,\n",
    "logical code for small and large-scale projects. Python is dynamically-typed and\n",
    "garbage-collected. It supports multiple programming paradigms, including structured (particularly,\n",
    "procedural), object-oriented and functional programming. Python is often described as a \"batteries\n",
    "included\" language due to its comprehensive standard library. Guido van Rossum began working on\n",
    "Python in the late 1980s, as a successor to the ABC programming language, and first released it in\n",
    "1991 as Python 0.9.0. Python 2.0 was released in 2000 and introduced new features, such as list\n",
    "comprehensions and a garbage collection system using reference counting. Python 3.0 was released in\n",
    "2008 and was a major revision of the language that is not completely backward-compatible and much\n",
    "Python 2 code does not run unmodified on Python 3. Python 2 was discontinued with version 2.7.18 in\n",
    "2020. Python consistently ranks as one of the most popular programming\n",
    "languages.\n",
    "\"\"\""
   ],
   "outputs": [],
   "execution_count": 8
  },
  {
   "cell_type": "code",
   "metadata": {
    "id": "9COzLZ5bchzp",
    "ExecuteTime": {
     "end_time": "2025-04-04T19:46:34.885963Z",
     "start_time": "2025-04-04T19:46:34.883476Z"
    }
   },
   "source": [
    "import string"
   ],
   "outputs": [],
   "execution_count": 9
  },
  {
   "cell_type": "code",
   "metadata": {
    "id": "ymxoyv2ZLIlV",
    "scrolled": true,
    "ExecuteTime": {
     "end_time": "2025-04-04T19:46:35.486338Z",
     "start_time": "2025-04-04T19:46:35.483024Z"
    }
   },
   "source": [
    "import re\n",
    "cleared_python_text = re.sub(r'[^a-zA-Zа-яА-Я0-9\\s]', '', python_text)\n",
    "\n",
    "print(cleared_python_text)"
   ],
   "outputs": [
    {
     "name": "stdout",
     "output_type": "stream",
     "text": [
      "\n",
      "Python is an interpreted highlevel generalpurpose programming language Pythons design\n",
      "philosophy emphasizes code readability with its notable use of significant indentation Its\n",
      "language constructs as well as its objectoriented approach aim to help programmers write clear\n",
      "logical code for small and largescale projects Python is dynamicallytyped and\n",
      "garbagecollected It supports multiple programming paradigms including structured particularly\n",
      "procedural objectoriented and functional programming Python is often described as a batteries\n",
      "included language due to its comprehensive standard library Guido van Rossum began working on\n",
      "Python in the late 1980s as a successor to the ABC programming language and first released it in\n",
      "1991 as Python 090 Python 20 was released in 2000 and introduced new features such as list\n",
      "comprehensions and a garbage collection system using reference counting Python 30 was released in\n",
      "2008 and was a major revision of the language that is not completely backwardcompatible and much\n",
      "Python 2 code does not run unmodified on Python 3 Python 2 was discontinued with version 2718 in\n",
      "2020 Python consistently ranks as one of the most popular programming\n",
      "languages\n",
      "\n"
     ]
    }
   ],
   "execution_count": 10
  },
  {
   "cell_type": "code",
   "metadata": {
    "id": "azESjnwRAlh2",
    "scrolled": true,
    "ExecuteTime": {
     "end_time": "2025-04-04T19:46:36.296802Z",
     "start_time": "2025-04-04T19:46:36.293915Z"
    }
   },
   "source": [
    "cleared_python_text = cleared_python_text.lower()\n",
    "print(cleared_python_text)"
   ],
   "outputs": [
    {
     "name": "stdout",
     "output_type": "stream",
     "text": [
      "\n",
      "python is an interpreted highlevel generalpurpose programming language pythons design\n",
      "philosophy emphasizes code readability with its notable use of significant indentation its\n",
      "language constructs as well as its objectoriented approach aim to help programmers write clear\n",
      "logical code for small and largescale projects python is dynamicallytyped and\n",
      "garbagecollected it supports multiple programming paradigms including structured particularly\n",
      "procedural objectoriented and functional programming python is often described as a batteries\n",
      "included language due to its comprehensive standard library guido van rossum began working on\n",
      "python in the late 1980s as a successor to the abc programming language and first released it in\n",
      "1991 as python 090 python 20 was released in 2000 and introduced new features such as list\n",
      "comprehensions and a garbage collection system using reference counting python 30 was released in\n",
      "2008 and was a major revision of the language that is not completely backwardcompatible and much\n",
      "python 2 code does not run unmodified on python 3 python 2 was discontinued with version 2718 in\n",
      "2020 python consistently ranks as one of the most popular programming\n",
      "languages\n",
      "\n"
     ]
    }
   ],
   "execution_count": 11
  },
  {
   "cell_type": "code",
   "metadata": {
    "id": "lIVKaG-RAl4T",
    "ExecuteTime": {
     "end_time": "2025-04-04T19:46:36.990027Z",
     "start_time": "2025-04-04T19:46:36.986958Z"
    }
   },
   "source": [
    "python_words = cleared_python_text.split()\n",
    "print(python_words)"
   ],
   "outputs": [
    {
     "name": "stdout",
     "output_type": "stream",
     "text": [
      "['python', 'is', 'an', 'interpreted', 'highlevel', 'generalpurpose', 'programming', 'language', 'pythons', 'design', 'philosophy', 'emphasizes', 'code', 'readability', 'with', 'its', 'notable', 'use', 'of', 'significant', 'indentation', 'its', 'language', 'constructs', 'as', 'well', 'as', 'its', 'objectoriented', 'approach', 'aim', 'to', 'help', 'programmers', 'write', 'clear', 'logical', 'code', 'for', 'small', 'and', 'largescale', 'projects', 'python', 'is', 'dynamicallytyped', 'and', 'garbagecollected', 'it', 'supports', 'multiple', 'programming', 'paradigms', 'including', 'structured', 'particularly', 'procedural', 'objectoriented', 'and', 'functional', 'programming', 'python', 'is', 'often', 'described', 'as', 'a', 'batteries', 'included', 'language', 'due', 'to', 'its', 'comprehensive', 'standard', 'library', 'guido', 'van', 'rossum', 'began', 'working', 'on', 'python', 'in', 'the', 'late', '1980s', 'as', 'a', 'successor', 'to', 'the', 'abc', 'programming', 'language', 'and', 'first', 'released', 'it', 'in', '1991', 'as', 'python', '090', 'python', '20', 'was', 'released', 'in', '2000', 'and', 'introduced', 'new', 'features', 'such', 'as', 'list', 'comprehensions', 'and', 'a', 'garbage', 'collection', 'system', 'using', 'reference', 'counting', 'python', '30', 'was', 'released', 'in', '2008', 'and', 'was', 'a', 'major', 'revision', 'of', 'the', 'language', 'that', 'is', 'not', 'completely', 'backwardcompatible', 'and', 'much', 'python', '2', 'code', 'does', 'not', 'run', 'unmodified', 'on', 'python', '3', 'python', '2', 'was', 'discontinued', 'with', 'version', '2718', 'in', '2020', 'python', 'consistently', 'ranks', 'as', 'one', 'of', 'the', 'most', 'popular', 'programming', 'languages']\n"
     ]
    }
   ],
   "execution_count": 12
  },
  {
   "cell_type": "code",
   "metadata": {
    "id": "N9p_vtMXAn5M",
    "ExecuteTime": {
     "end_time": "2025-04-04T19:46:37.517449Z",
     "start_time": "2025-04-04T19:46:37.513977Z"
    }
   },
   "source": [
    "length_of_python_words = len(python_words)\n",
    "print(length_of_python_words)"
   ],
   "outputs": [
    {
     "name": "stdout",
     "output_type": "stream",
     "text": [
      "177\n"
     ]
    }
   ],
   "execution_count": 13
  },
  {
   "cell_type": "markdown",
   "metadata": {
    "id": "Pn0BHR1SLIlW"
   },
   "source": [
    "## Задача 5 (1)"
   ]
  },
  {
   "cell_type": "markdown",
   "metadata": {
    "id": "OgvEohbsd_kb"
   },
   "source": [
    "С помощью `list comprehension` создайте матрицу (список, состоящий из списков чисел) размера $N \\times N$, содержащую квадраты чисел по возрастанию, начиная с 0. Сначала заполняется первая колонка, затем вторая и т.д.\n",
    "\n",
    "**Подсказка:** сначала сделайте двойным циклом\n",
    "\n",
    "**Пример ввода:**\n",
    "```python\n",
    "3\n",
    "```\n",
    "\n",
    "**Пример вывода:**\n",
    "```python\n",
    "[[0, 9, 36]\n",
    "[1, 16, 49]\n",
    "[4, 25, 64]]\n",
    "```"
   ]
  },
  {
   "cell_type": "code",
   "metadata": {
    "id": "l3V2rBUxLIlW",
    "ExecuteTime": {
     "end_time": "2025-04-04T19:46:40.022168Z",
     "start_time": "2025-04-04T19:46:40.018382Z"
    }
   },
   "source": [
    "N = 3  \n",
    "matrix = []\n",
    "for i in range(N):\n",
    "    row = []\n",
    "    for j in range(N):\n",
    "        row.append((i + j * N) ** 2)\n",
    "    matrix.append(row)\n",
    "\n",
    "N = 3\n",
    "matrix = [[(i + j * N) ** 2 for j in range(N)] for i in range(N)]\n",
    "for row in matrix:\n",
    "    print(row)"
   ],
   "outputs": [
    {
     "name": "stdout",
     "output_type": "stream",
     "text": [
      "[0, 9, 36]\n",
      "[1, 16, 49]\n",
      "[4, 25, 64]\n"
     ]
    }
   ],
   "execution_count": 14
  },
  {
   "cell_type": "markdown",
   "metadata": {
    "id": "wS1oIF_JLIlW"
   },
   "source": [
    "## Задача 6 (0.5)\n",
    "\n"
   ]
  },
  {
   "cell_type": "markdown",
   "metadata": {
    "id": "aO9gx1U3d8yJ"
   },
   "source": [
    "На вход подается список `input_list`, в котором не более одного уровня вложенности: он может содержать в себе как числа, так и другие списки, содержащие только числа. Необходимо \"вырОвнить\" список `input_list` (см. пример), поместить результат в список `output_list` и вывести его.\n",
    "\n",
    "**Пример `input_list`:**\n",
    "```python\n",
    "[0, [1, 2], 4, [1, 0, 3]]\n",
    "```\n",
    "\n",
    "**Пример вывода:**\n",
    "```python\n",
    "[0, 1, 2, 4, 1, 0, 3]\n",
    "```"
   ]
  },
  {
   "cell_type": "code",
   "metadata": {
    "id": "zD9PrfOSdQ1Y",
    "tags": [],
    "ExecuteTime": {
     "end_time": "2025-04-04T19:46:41.712795Z",
     "start_time": "2025-04-04T19:46:41.708393Z"
    }
   },
   "source": [
    "input_list = [0, [1, 2], 4, [1, 0, 3], 42, [42], [], [0, 0, 0]]"
   ],
   "outputs": [],
   "execution_count": 15
  },
  {
   "cell_type": "code",
   "metadata": {
    "id": "EIGg_nXqLIlW",
    "ExecuteTime": {
     "end_time": "2025-04-04T19:46:42.231257Z",
     "start_time": "2025-04-04T19:46:42.227997Z"
    }
   },
   "source": [
    "output_list = []\n",
    "\n",
    "for item in input_list:\n",
    "    if isinstance(item, list):\n",
    "        output_list.extend(item)\n",
    "    else:\n",
    "        output_list.append(item)\n",
    "\n",
    "print(output_list)"
   ],
   "outputs": [
    {
     "name": "stdout",
     "output_type": "stream",
     "text": [
      "[0, 1, 2, 4, 1, 0, 3, 42, 42, 0, 0, 0]\n"
     ]
    }
   ],
   "execution_count": 16
  },
  {
   "cell_type": "markdown",
   "metadata": {
    "id": "EAMK_9rYLIlX"
   },
   "source": [
    "## Задача 7 (0.5)"
   ]
  },
  {
   "cell_type": "markdown",
   "metadata": {
    "id": "jxfKuIlSdElx"
   },
   "source": [
    "На вход подается список кортежей `ts`. Для каждого кортежа посчитайте сумму и среднее его элементов. Верните список, состоящий из кортежей `(сумма, среднее)`.\n",
    "\n",
    "**Пример входа:**\n",
    "```python\n",
    "[(1,), (2, 3, -8)]\n",
    "```\n",
    "**Пример вывода:**\n",
    "```python\n",
    "[(1, 1), (-3, -1)]\n",
    "```"
   ]
  },
  {
   "cell_type": "code",
   "metadata": {
    "id": "5iFmMzuELIlX",
    "ExecuteTime": {
     "end_time": "2025-04-04T19:46:43.508379Z",
     "start_time": "2025-04-04T19:46:43.504964Z"
    }
   },
   "source": [
    "ts = [(1,), (2, 3, -8), (3, 4), (2, 2, 2, 2), (0, 1, 2, 98, 99)]"
   ],
   "outputs": [],
   "execution_count": 17
  },
  {
   "cell_type": "code",
   "metadata": {
    "id": "7CX0DBebd4zh",
    "ExecuteTime": {
     "end_time": "2025-04-04T19:46:43.884725Z",
     "start_time": "2025-04-04T19:46:43.881786Z"
    }
   },
   "source": [
    "result = [(sum(t), sum(t) / len(t)) for t in ts]\n",
    "\n",
    "print(result)"
   ],
   "outputs": [
    {
     "name": "stdout",
     "output_type": "stream",
     "text": [
      "[(1, 1.0), (-3, -1.0), (7, 3.5), (8, 2.0), (200, 40.0)]\n"
     ]
    }
   ],
   "execution_count": 18
  },
  {
   "cell_type": "markdown",
   "metadata": {
    "id": "ATgzZd6WLIlX"
   },
   "source": [
    "## Задача 8 (0.5)"
   ]
  },
  {
   "cell_type": "markdown",
   "metadata": {
    "id": "O1HK18-4fk1i"
   },
   "source": [
    "На вход подается список кортежей `ts`. У всех кортежей одинаковое количество элементов, элементами всех кортежей являются числа. Выведите два кортежа: с поэлементными суммами и с поэлементными средними.\n",
    "\n",
    "**Пример входа:**\n",
    "```python\n",
    "[(1, 5), (1, 7), (2, 8)]\n",
    "```\n",
    "**Пример вывода:**\n",
    "```python\n",
    "(4, 20)\n",
    "(1.3333333333333333, 6.666666666666667)\n",
    "```"
   ]
  },
  {
   "cell_type": "code",
   "metadata": {
    "id": "Ef65-mPEdQ1i",
    "ExecuteTime": {
     "end_time": "2025-04-04T19:46:44.943203Z",
     "start_time": "2025-04-04T19:46:44.940711Z"
    }
   },
   "source": [
    "ts = [\n",
    "    (1, 2, 3, 4),\n",
    "    (11, 21, 31, 41),\n",
    "    (121, 231, 341, 451),\n",
    "    (1331, 2541, 3751, 4961),\n",
    "    (121, 231, 341, 451),\n",
    "    (11, 21, 31, 41),\n",
    "    (1, 2, 3, 4),\n",
    "]"
   ],
   "outputs": [],
   "execution_count": 19
  },
  {
   "cell_type": "code",
   "metadata": {
    "id": "-Tipld8kLIlX",
    "ExecuteTime": {
     "end_time": "2025-04-04T19:46:45.306042Z",
     "start_time": "2025-04-04T19:46:45.302789Z"
    }
   },
   "source": [
    "sums = tuple(sum(values) for values in zip(*ts))\n",
    "averages = tuple(s / len(ts) for s in sums)\n",
    "\n",
    "print(\"Суммы:\", sums)\n",
    "print(\"Средние:\", averages)"
   ],
   "outputs": [
    {
     "name": "stdout",
     "output_type": "stream",
     "text": [
      "Суммы: (1597, 3049, 4501, 5953)\n",
      "Средние: (228.14285714285714, 435.57142857142856, 643.0, 850.4285714285714)\n"
     ]
    }
   ],
   "execution_count": 20
  },
  {
   "cell_type": "markdown",
   "metadata": {
    "id": "6Au2odgSLIlX"
   },
   "source": [
    "## Задача 9 (1)"
   ]
  },
  {
   "cell_type": "markdown",
   "metadata": {
    "id": "6L2AWuBEeK5_"
   },
   "source": [
    "На вход подается список `xs` из строк формата `\"имя число\"`. В качестве ответа выведите список кортежей `(\"имя\", число)`, отсортированный по убыванию чисел. Кортежи с одинаковыми числами должны быть отсортированы лексикографически по имени.\n",
    "\n",
    "**Указание:**\n",
    "- параметр `key` встроенных функций использовать запрещено\n",
    "\n",
    "**Подсказка:**\n",
    "- сравнение кортежей (но можно и без него)\n",
    "\n",
    "**Пример входа:**\n",
    "```python\n",
    "[\"alice 10\", \"bob 20\", \"bertha 20\"]\n",
    "```\n",
    "\n",
    "**Пример вывода:**\n",
    "```python\n",
    "[(\"bertha\", 20), (\"bob\", 20), (\"alice\", 10)]\n",
    "```"
   ]
  },
  {
   "cell_type": "code",
   "metadata": {
    "id": "_v4XnFM5dQ1i",
    "ExecuteTime": {
     "end_time": "2025-04-04T19:46:47.049650Z",
     "start_time": "2025-04-04T19:46:47.045971Z"
    }
   },
   "source": [
    "xs = ['bob2 20', 'bob3 20', \"alice 10\", \"bob1 20\",\n",
    "      \"bertha 20\", 'david 0', 'alic 10', \"chris 0\"]"
   ],
   "outputs": [],
   "execution_count": 21
  },
  {
   "cell_type": "code",
   "metadata": {
    "id": "GtBGv1BlLIlX",
    "ExecuteTime": {
     "end_time": "2025-04-04T19:46:47.389094Z",
     "start_time": "2025-04-04T19:46:47.385295Z"
    }
   },
   "source": [
    "tuples = []\n",
    "for item in xs:\n",
    "    name, number = item.split()\n",
    "    tuples.append((name, int(number)))\n",
    "\n",
    "for i in range(len(tuples)):\n",
    "    for j in range(len(tuples) - 1):\n",
    "        if (tuples[j][1] < tuples[j + 1][1]) or (tuples[j][1] == tuples[j + 1][1] and tuples[j][0] > tuples[j + 1][0]):\n",
    "            tuples[j], tuples[j + 1] = tuples[j + 1], tuples[j]\n",
    "\n",
    "print(tuples)"
   ],
   "outputs": [
    {
     "name": "stdout",
     "output_type": "stream",
     "text": [
      "[('bertha', 20), ('bob1', 20), ('bob2', 20), ('bob3', 20), ('alic', 10), ('alice', 10), ('chris', 0), ('david', 0)]\n"
     ]
    }
   ],
   "execution_count": 22
  },
  {
   "cell_type": "markdown",
   "metadata": {
    "id": "zZZSn9COdQ1i"
   },
   "source": [
    "## Задача 10 (0.5 + 0.5)\n",
    "\n",
    "Состоит из двух задач."
   ]
  },
  {
   "cell_type": "markdown",
   "metadata": {
    "id": "Cq5rrV2YdQ1i"
   },
   "source": [
    "**Указание:**\n",
    "\n",
    "```python\n",
    "for d in ds:\n",
    "    ...\n",
    "```"
   ]
  },
  {
   "cell_type": "markdown",
   "metadata": {
    "id": "coPqGYSBLIlX"
   },
   "source": [
    "### Задача 10.1"
   ]
  },
  {
   "cell_type": "markdown",
   "metadata": {
    "id": "ndKtQ0r0iImH"
   },
   "source": [
    "У вас есть очередь словарей, заданная списком `ds`. Вы поочередно обрабатываете их и объединяете в один. Ваша программа должна сразу обрабатывать пришедший словарь (см указание). Если ключ уже присутствует, то оставляйте **более позднее** значение.\n",
    "\n",
    "**Пример ввода:**\n",
    "```python\n",
    "[{'key1': 10, 'key2': 20}, {'key1': 50, 'key3': 30}]\n",
    "```\n",
    "**Пример вывода:**\n",
    "```python\n",
    "{'key1': 50, 'key2': 20, 'key3': 30}\n",
    "```"
   ]
  },
  {
   "cell_type": "code",
   "metadata": {
    "id": "TjdC9ogtiaAg",
    "tags": [],
    "ExecuteTime": {
     "end_time": "2025-04-04T19:46:49.583437Z",
     "start_time": "2025-04-04T19:46:49.578136Z"
    }
   },
   "source": [
    "ds = [\n",
    "    {'key1': 10, 'key2': 20},\n",
    "    {'key3': 30, 'key4': 40},\n",
    "    {'key1': 50, 'key5': 60},\n",
    "    {'key1': 70, 'key2': 10},\n",
    "    {'key3': 90, 'key4': 70},\n",
    "    {'key6': 50, 'key5': 80},\n",
    "]"
   ],
   "outputs": [],
   "execution_count": 23
  },
  {
   "cell_type": "code",
   "metadata": {
    "id": "it_ThaYBLIlY",
    "ExecuteTime": {
     "end_time": "2025-04-04T19:46:49.975286Z",
     "start_time": "2025-04-04T19:46:49.972403Z"
    }
   },
   "source": [
    "result = {}\n",
    "for d in ds:\n",
    "    for key, value in d.items():\n",
    "        result[key] = value\n",
    "print(result)"
   ],
   "outputs": [
    {
     "name": "stdout",
     "output_type": "stream",
     "text": [
      "{'key1': 70, 'key2': 10, 'key3': 90, 'key4': 70, 'key5': 80, 'key6': 50}\n"
     ]
    }
   ],
   "execution_count": 24
  },
  {
   "cell_type": "markdown",
   "metadata": {
    "id": "4K-2EegRLIlY"
   },
   "source": [
    "### Задача 10.2"
   ]
  },
  {
   "cell_type": "markdown",
   "metadata": {
    "id": "w0vnJmokik7O"
   },
   "source": [
    "У вас есть очередь словарей, заданная списком `ds`. Вы поочередно обрабатываете их и объединяете в один. Ваша программа должна сразу обрабатывать пришедший словарь (см указание). Если ключ уже присутствует, то оставляйте **более раннее** значение.\n",
    "\n",
    "**Подсказка:** методы словарей\n",
    "\n",
    "**Пример ввода:**\n",
    "```python\n",
    "[{'key1': 10, 'key2': 20}, {'key1': 50, 'key3': 30}]\n",
    "```\n",
    "**Пример вывода:**\n",
    "```python\n",
    "{'key1': 10, 'key2': 20, 'key3': 30}\n",
    "```"
   ]
  },
  {
   "cell_type": "code",
   "metadata": {
    "id": "_6cGXbmuit__",
    "tags": [],
    "ExecuteTime": {
     "end_time": "2025-04-04T19:46:51.853760Z",
     "start_time": "2025-04-04T19:46:51.851024Z"
    }
   },
   "source": [
    "ds = [\n",
    "    {'key1': 10, 'key2': 20},\n",
    "    {'key3': 30, 'key4': 40},\n",
    "    {'key1': 50, 'key5': 60},\n",
    "    {'key1': 70, 'key2': 10},\n",
    "    {'key3': 90, 'key4': 70},\n",
    "    {'key6': 50, 'key5': 80},\n",
    "]"
   ],
   "outputs": [],
   "execution_count": 25
  },
  {
   "cell_type": "code",
   "metadata": {
    "id": "euYkiGj8LIlY",
    "ExecuteTime": {
     "end_time": "2025-04-04T19:46:52.244392Z",
     "start_time": "2025-04-04T19:46:52.241473Z"
    }
   },
   "source": [
    "result = {}\n",
    "\n",
    "for d in ds:\n",
    "    for key, value in d.items():\n",
    "        if key not in result:\n",
    "            result[key] = value\n",
    "\n",
    "print(result)"
   ],
   "outputs": [
    {
     "name": "stdout",
     "output_type": "stream",
     "text": [
      "{'key1': 10, 'key2': 20, 'key3': 30, 'key4': 40, 'key5': 60, 'key6': 50}\n"
     ]
    }
   ],
   "execution_count": 26
  },
  {
   "cell_type": "markdown",
   "metadata": {
    "id": "t2pv7UVeLIlY"
   },
   "source": [
    "## Задача 11 (0.5)"
   ]
  },
  {
   "cell_type": "markdown",
   "metadata": {
    "id": "dIhiZLmhjBML"
   },
   "source": [
    "Сделайте частотный анализ слов в **уже очищенном** тексте из Задачи 4 и выведите 10 самых часто встречаемых слов в порядке возрастания частоты, каждое с новой строки, через пробел его частоту.\n",
    "\n",
    "Пример вывода: `python 123`\n",
    "\n",
    "**Указание:** сначала решите без использования модуля `collections`, а затем с ним."
   ]
  },
  {
   "cell_type": "code",
   "metadata": {
    "id": "1tuOlPH7LIlY",
    "ExecuteTime": {
     "end_time": "2025-04-04T19:46:53.375786Z",
     "start_time": "2025-04-04T19:46:53.372679Z"
    }
   },
   "source": [
    "words = python_words\n",
    "\n",
    "word_count = {}\n",
    "\n",
    "for word in words:\n",
    "    if word:\n",
    "        if word in word_count:\n",
    "            word_count[word] += 1\n",
    "        else:\n",
    "            word_count[word] = 1\n",
    "\n",
    "sorted_words = sorted(word_count.items(), key=lambda item: item[1])\n",
    "\n",
    "for word, count in sorted_words[:10]:\n",
    "    print(word, count)"
   ],
   "outputs": [
    {
     "name": "stdout",
     "output_type": "stream",
     "text": [
      "an 1\n",
      "interpreted 1\n",
      "highlevel 1\n",
      "generalpurpose 1\n",
      "pythons 1\n",
      "design 1\n",
      "philosophy 1\n",
      "emphasizes 1\n",
      "readability 1\n",
      "notable 1\n"
     ]
    }
   ],
   "execution_count": 27
  },
  {
   "cell_type": "code",
   "metadata": {
    "id": "zzrqw_gAdQ1j",
    "ExecuteTime": {
     "end_time": "2025-04-04T19:46:53.834447Z",
     "start_time": "2025-04-04T19:46:53.830582Z"
    }
   },
   "source": [
    "from collections import Counter\n",
    "\n",
    "word_count = Counter(words)\n",
    "\n",
    "most_common_words = word_count.most_common(10)\n",
    "\n",
    "for word, count in most_common_words:\n",
    "    print(word, count)"
   ],
   "outputs": [
    {
     "name": "stdout",
     "output_type": "stream",
     "text": [
      "python 11\n",
      "and 8\n",
      "as 7\n",
      "programming 5\n",
      "language 5\n",
      "in 5\n",
      "is 4\n",
      "its 4\n",
      "a 4\n",
      "the 4\n"
     ]
    }
   ],
   "execution_count": 28
  },
  {
   "cell_type": "markdown",
   "metadata": {
    "id": "3a4LB09LLIlZ"
   },
   "source": [
    "## Задача 12 (5 х 0.1 + 0.4)"
   ]
  },
  {
   "cell_type": "markdown",
   "metadata": {
    "id": "wMsU0ma_kKmh"
   },
   "source": [
    "**Каждую** мини-задачу решать в одну строку в отдельной ячейке. Считать, что на входе каждой из них даны два списка `xs1` и `xs2`. Используйте методы `set`.\n",
    "\n",
    "Поочередно выведите списки со всеми элементами:\n",
    "\n",
    "1. которые есть в обоих списках\n",
    "2. которые есть только в одном из списков\n",
    "3. которые есть в `xs1`, но нет в `xs2`\n",
    "4. которые есть в `xs2`, но нет в `xs1`\n",
    "\n",
    "Затем:\n",
    "\n",
    "5. проверьте, что в `xs1` все элементы уникальны (выведите `True` или `False`)\n",
    "6. выведите модуль разности между минимальным значением среди элементов, которые встречаются только в одном из списков и максимальным значением среди общих элементов списков\n",
    "\n",
    "**Пример ввода:**\n",
    "```python\n",
    "[1, 1, 2, 3, 5, 8, 13, 21, 34, 55, 89]\n",
    "[1, 2, 3, 4, 5, 6, 7, 8, 9, 10, 11, 12, 13]\n",
    "```\n",
    "**Пример вывода:**\n",
    "```python\n",
    "[1, 2, 3, 5, 8, 13]\n",
    "```"
   ]
  },
  {
   "cell_type": "code",
   "metadata": {
    "id": "MKIYeIhdxll8",
    "ExecuteTime": {
     "end_time": "2025-04-04T19:46:55.200571Z",
     "start_time": "2025-04-04T19:46:55.197899Z"
    }
   },
   "source": [
    "xs1 = [1, 1, 2, 3, 5, 8, 13, 21, 34, 55]\n",
    "xs2 = [1, 2, 3, 4, 5, 6, 7, 8, 9, 10, 11, 12, 13]"
   ],
   "outputs": [],
   "execution_count": 29
  },
  {
   "cell_type": "code",
   "metadata": {
    "id": "isKHuX_Kv3IW",
    "ExecuteTime": {
     "end_time": "2025-04-04T19:46:55.599647Z",
     "start_time": "2025-04-04T19:46:55.597339Z"
    }
   },
   "source": [
    "common_elements = list(set(xs1) & set(xs2))\n",
    "print(common_elements)"
   ],
   "outputs": [
    {
     "name": "stdout",
     "output_type": "stream",
     "text": [
      "[1, 2, 3, 5, 8, 13]\n"
     ]
    }
   ],
   "execution_count": 30
  },
  {
   "cell_type": "code",
   "metadata": {
    "id": "yp8Zl6-fdQ1k",
    "ExecuteTime": {
     "end_time": "2025-04-04T19:46:55.949233Z",
     "start_time": "2025-04-04T19:46:55.946595Z"
    }
   },
   "source": [
    "unique_elements = list(set(xs1) ^ set(xs2))\n",
    "print(unique_elements)"
   ],
   "outputs": [
    {
     "name": "stdout",
     "output_type": "stream",
     "text": [
      "[34, 4, 6, 7, 9, 10, 11, 12, 21, 55]\n"
     ]
    }
   ],
   "execution_count": 31
  },
  {
   "cell_type": "code",
   "metadata": {
    "id": "smoTsgQudQ1k",
    "ExecuteTime": {
     "end_time": "2025-04-04T19:46:56.299092Z",
     "start_time": "2025-04-04T19:46:56.296670Z"
    }
   },
   "source": [
    "only_in_xs1 = list(set(xs1) - set(xs2))\n",
    "print(only_in_xs1)"
   ],
   "outputs": [
    {
     "name": "stdout",
     "output_type": "stream",
     "text": [
      "[34, 21, 55]\n"
     ]
    }
   ],
   "execution_count": 32
  },
  {
   "cell_type": "code",
   "metadata": {
    "id": "_YldSvT8dQ1k",
    "ExecuteTime": {
     "end_time": "2025-04-04T19:46:56.677166Z",
     "start_time": "2025-04-04T19:46:56.674352Z"
    }
   },
   "source": [
    "only_in_xs2 = list(set(xs2) - set(xs1))\n",
    "print(only_in_xs2)"
   ],
   "outputs": [
    {
     "name": "stdout",
     "output_type": "stream",
     "text": [
      "[4, 6, 7, 9, 10, 11, 12]\n"
     ]
    }
   ],
   "execution_count": 33
  },
  {
   "cell_type": "code",
   "metadata": {
    "id": "NSP0DRmCdQ1k",
    "ExecuteTime": {
     "end_time": "2025-04-04T19:46:57.024071Z",
     "start_time": "2025-04-04T19:46:57.021240Z"
    }
   },
   "source": [
    "are_unique = len(xs1) == len(set(xs1))\n",
    "print(are_unique)"
   ],
   "outputs": [
    {
     "name": "stdout",
     "output_type": "stream",
     "text": [
      "False\n"
     ]
    }
   ],
   "execution_count": 34
  },
  {
   "cell_type": "code",
   "metadata": {
    "id": "wJYW7m9wdQ1k",
    "tags": [],
    "ExecuteTime": {
     "end_time": "2025-04-04T19:46:57.468351Z",
     "start_time": "2025-04-04T19:46:57.464891Z"
    }
   },
   "source": [
    "min_unique = min(set(xs1) ^ set(xs2))\n",
    "max_common = max(set(xs1) & set(xs2))\n",
    "result = abs(min_unique - max_common)\n",
    "print(result)"
   ],
   "outputs": [
    {
     "name": "stdout",
     "output_type": "stream",
     "text": [
      "9\n"
     ]
    }
   ],
   "execution_count": 35
  },
  {
   "cell_type": "markdown",
   "metadata": {
    "id": "w4WUA2FUdQ1k"
   },
   "source": [
    "# Часть 2 (6.5)"
   ]
  },
  {
   "cell_type": "markdown",
   "metadata": {
    "id": "xZg10LUVdQ1k"
   },
   "source": [
    "## Задача лингвиста (1.5)"
   ]
  },
  {
   "cell_type": "markdown",
   "metadata": {
    "id": "YFyVEkAadQ1k"
   },
   "source": [
    "Вы лингвист, изучающий новые языки. У вас имеется много текстов, написанных на этих языках.\n",
    "\n",
    "Ваша первоочередная задача для каждого набора литературы определить:\n",
    "\n",
    "- алфавит языка - набор различных символов\n",
    "- мощность алфавита - их количество\n",
    "\n",
    "Для каждого языка с новой строки выведите лексикографически отсортированный алфавит, а через двоеточие - его мощность. Перед печатью алфавита выводите символ `#` (визуальный разделитель). Например, для двоичного алфавита ответ выглядел бы так: `#01: 2`, для троичного так: `#012: 3`\n",
    "\n",
    "- незнакомые определения можно посмотреть тут: https://resh.edu.ru/subject/lesson/7319/conspect/250679/"
   ]
  },
  {
   "cell_type": "code",
   "metadata": {
    "id": "J23-BdvudQ1l",
    "ExecuteTime": {
     "end_time": "2025-04-04T19:46:59.212938Z",
     "start_time": "2025-04-04T19:46:59.209658Z"
    }
   },
   "source": [
    "literature01 = [\n",
    "    'פייתון מוקלד באופן דינמי ואוסף אשפה!',\n",
    "    'הוא תומך בפרדיגמות תכנות מרובות, כולל תכנות מובנה (פרוצדורלי במיוחד), מונחה עצמים ופונקציונלי.',\n",
    "    'זה מתואר לעתים קרובות כשפה\" סוללות כלולות \" בשל הספרייה הסטנדרטית המקיפה שלה?',\n",
    "]\n",
    "\n",
    "literature02 = [\n",
    "    'پایتون به صورت پویا تایپ شده و زباله جمع شده است!',\n",
    "    'این پشتیبانی از پارادایم های برنامه نویسی متعدد, از جمله ساختار (به خصوص رویه), برنامه نویسی شی گرا و کاربردی.',\n",
    "    'این است که اغلب به عنوان یک \"باتری شامل\" زبان با توجه به کتابخانه استاندارد جامع خود توصیف?',\n",
    "]\n",
    "\n",
    "literature03 = [\n",
    "    'uqydfqixa;sd jsdviwwbdhu qwertyuiop',\n",
    "    'asdfgh DDFGHJ ghjl',\n",
    "    'zxc cvb vbn cvb bn n,',\n",
    "    'n,.n l;l QWESs WERTYU123'\n",
    "]"
   ],
   "outputs": [],
   "execution_count": 36
  },
  {
   "cell_type": "code",
   "metadata": {
    "id": "TgDB2q_HLIla",
    "ExecuteTime": {
     "end_time": "2025-04-04T19:49:10.701661Z",
     "start_time": "2025-04-04T19:49:10.691584Z"
    }
   },
   "source": [
    "def analyze_literature(texts):\n",
    "    alphabet = set()\n",
    "    for text in texts:\n",
    "        for char in text:\n",
    "            alphabet.add(char)\n",
    "    return ''.join(sorted(alphabet)), len(alphabet)\n",
    "\n",
    "# Анализируем каждую литературу\n",
    "for i, literature in enumerate([literature01, literature02, literature03], 1):\n",
    "    sorted_alphabet, size = analyze_literature(literature)\n",
    "    print(f\"#{sorted_alphabet}: {size}\")"
   ],
   "outputs": [
    {
     "name": "stdout",
     "output_type": "stream",
     "text": [
      "# !\"(),.?אבגדהוזחטיךכלםמןנסעףפצקרשת: 34\n",
      "# !\"(),.?ابتجخدرزسشصعغفلمنهوپکگی: 31\n",
      "# ,.123;DEFGHJQRSTUWYabcdefghijlnopqrstuvwxyz: 44\n"
     ]
    }
   ],
   "execution_count": 38
  },
  {
   "cell_type": "markdown",
   "metadata": {
    "id": "79-KQTeBLIlV"
   },
   "source": [
    "## Задача nucleotides (2)\n"
   ]
  },
  {
   "cell_type": "markdown",
   "metadata": {
    "id": "pixVnOqNeB7T"
   },
   "source": [
    "Напечатайте все подпоследовательности данной последовательности `nucleotides`, заданной в виде списка.\n",
    "\n",
    "**Указания:**\n",
    "\n",
    "- считайте, что все элементы входящей последовательности уникальны\n",
    "- пустая последовательность является подпоследовательностью любой другой последовательности\n",
    "- рекомендуется сначала понять финальный вид ответа и количество подпоследовательностей\n",
    "- пример: `[a, c, e]` является подпоследовательностью для `[a, b, c, d, e]`\n",
    "- еще можно посмотреть [на википедии](https://en.wikipedia.org/wiki/Subsequence): в математике подпоследовательность заданной последовательности - это последовательность, которая может быть получена из данной последовательности путем удаления некоторых элементов или отсутствия таковых без изменения порядка остальных элементов. Пример оттуда же, но без условия на уникальность элементов: The list of all subsequences for the word \"apple\" would be: \"a\", \"ap\", \"al\", \"ae\", \"app\", \"apl\", \"ape\", \"ale\", \"appl\", \"appe\", \"aple\", \"apple\", \"p\", \"pp\", \"pl\", \"pe\", \"ppl\", \"ppe\", \"ple\", \"pple\", \"l\", \"le\", \"e\", \"\" (empty string).\n",
    "\n",
    "**Подсказка:** задача 1\n",
    "\n",
    "**Пример ввода:** (значение списка `nucleotides`)\n",
    "```python\n",
    "[0, 1]\n",
    "```\n",
    "\n",
    "**Пример вывода:** (то, что должен вывести ваш код)\n",
    "```python\n",
    "[]\n",
    "[0]\n",
    "[1]\n",
    "[0, 1]\n",
    "```"
   ]
  },
  {
   "cell_type": "code",
   "metadata": {
    "id": "ucN2IaC0LIlV",
    "ExecuteTime": {
     "end_time": "2025-04-04T19:49:32.300098Z",
     "start_time": "2025-04-04T19:49:32.295723Z"
    }
   },
   "source": [
    "nucleotides = ['A', 'T', 'G', 'C']"
   ],
   "outputs": [],
   "execution_count": 40
  },
  {
   "cell_type": "code",
   "metadata": {
    "id": "fap86Et1ecei",
    "ExecuteTime": {
     "end_time": "2025-04-04T19:50:57.729517Z",
     "start_time": "2025-04-04T19:50:57.724528Z"
    }
   },
   "source": [
    "def generate_subsequences(sequence):\n",
    "    if not sequence:\n",
    "        return [[]]\n",
    "\n",
    "    rest = generate_subsequences(sequence[1:])\n",
    "    return rest + [[sequence[0]] + sub for sub in rest]\n",
    "\n",
    "# Генерируем и выводим все подпоследовательности\n",
    "subsequences = generate_subsequences(nucleotides)\n",
    "for sub in subsequences:\n",
    "    print(sub)\n",
    "\n",
    "# Другой способ (итеративный)\n",
    "from itertools import combinations\n",
    "\n",
    "result = []\n",
    "for length in range(len(nucleotides) + 1):\n",
    "    for combination in combinations(nucleotides, length):\n",
    "        result.append(list(combination))\n",
    "\n",
    "for sub in result:\n",
    "    print(sub)"
   ],
   "outputs": [
    {
     "name": "stdout",
     "output_type": "stream",
     "text": [
      "[]\n",
      "['C']\n",
      "['G']\n",
      "['G', 'C']\n",
      "['T']\n",
      "['T', 'C']\n",
      "['T', 'G']\n",
      "['T', 'G', 'C']\n",
      "['A']\n",
      "['A', 'C']\n",
      "['A', 'G']\n",
      "['A', 'G', 'C']\n",
      "['A', 'T']\n",
      "['A', 'T', 'C']\n",
      "['A', 'T', 'G']\n",
      "['A', 'T', 'G', 'C']\n",
      "[]\n",
      "['A']\n",
      "['T']\n",
      "['G']\n",
      "['C']\n",
      "['A', 'T']\n",
      "['A', 'G']\n",
      "['A', 'C']\n",
      "['T', 'G']\n",
      "['T', 'C']\n",
      "['G', 'C']\n",
      "['A', 'T', 'G']\n",
      "['A', 'T', 'C']\n",
      "['A', 'G', 'C']\n",
      "['T', 'G', 'C']\n",
      "['A', 'T', 'G', 'C']\n"
     ]
    }
   ],
   "execution_count": 52
  },
  {
   "cell_type": "code",
   "metadata": {
    "id": "4Idmfd_lLIlV",
    "ExecuteTime": {
     "end_time": "2025-04-04T19:51:00.695327Z",
     "start_time": "2025-04-04T19:51:00.692325Z"
    }
   },
   "source": "print('\\n'.join(str([nucleotides[i] for i in range(len(nucleotides)) if (j >> i) & 1]) for j in range(2**len(nucleotides))))",
   "outputs": [
    {
     "name": "stdout",
     "output_type": "stream",
     "text": [
      "[]\n",
      "['A']\n",
      "['T']\n",
      "['A', 'T']\n",
      "['G']\n",
      "['A', 'G']\n",
      "['T', 'G']\n",
      "['A', 'T', 'G']\n",
      "['C']\n",
      "['A', 'C']\n",
      "['T', 'C']\n",
      "['A', 'T', 'C']\n",
      "['G', 'C']\n",
      "['A', 'G', 'C']\n",
      "['T', 'G', 'C']\n",
      "['A', 'T', 'G', 'C']\n"
     ]
    }
   ],
   "execution_count": 53
  },
  {
   "cell_type": "markdown",
   "metadata": {
    "id": "4FTZxx_idQ1l"
   },
   "source": [
    "## Задача Остапа (3)"
   ]
  },
  {
   "cell_type": "markdown",
   "metadata": {
    "id": "eGEKbe-odQ1l"
   },
   "source": [
    "Ваш друг Остап основал геймдев компанию *Unusual Games*, которая недавно зарелизила бета-версии двух игр под названиями `gocs2` и `tado2`. Чтобы лучше настроить рекомендации для продажи цифровых предметов, он хочет понять, сколько людей играет в обе игры, предполагая, что человек использует одинаковый ник в обеих играх. Для этого он позвал вас.\n",
    "\n",
    "Остап предоставил вам два списка геймеров в соответствующих играх (так как это бета-версии, то разработчики еще не успели сделать базу данных и хранят информацию об игроках в виде списков).\n",
    "\n",
    "Каждый игрок представлен списком, в котором по порядку перечислены:\n",
    "\n",
    "- никнейм (строка),\n",
    "- возраст (целое число),\n",
    "- рейтинг (дробное число),\n",
    "- настоящее имя (строка).\n",
    "\n",
    "При этом информация о рейтинге и имени может быть пропущена, так как игрок только начал играть и не получил рейтинг или не указал имя при регистрации (поле возраст разработчики догадались сразу сделать обязательным)\n",
    "\n",
    "В первую очередь для работы с данными вы решили привести их к более удобному виду. Остапу и его команде эта идея понравилась, и они попросили вас представить каждого игрока в виде именованного кортежа с полями: `nickname`, `age`, `rating`, `real_name`.\n",
    "\n",
    "Причем через неделю в обеих играх планируется обновление, в котором новым игрокам будет присваиваться стартовый рейтинг: в `gocs2` - 0.5, а в `tado2` - 4.2. Остап также добавил, что если игроки не укажут при регистрации настоящее имя, то в `gocs2` автоматически выставится `newbee`, а в `tado2` - `player`. Поэтому он попросил вас сразу учесть все это при создании кортежей.\n",
    "\n",
    "В ячейках ниже:\n",
    "\n",
    "1. создайте соответствующие именованные кортежи с именами `GOCS2Player` и `taDo2Player`\n",
    "2. трансформируйте данные об игроках и сложите в новые списки с именами `new_tado2` и `new_gocs2`\n",
    "3. сделайте задачу, ради которой вас изначально звал Остап, используя новые списки; в качестве ответа выведите целое число\n",
    "\n",
    "**Подсказки:**\n",
    "\n",
    "- документация `namedtuple`, параметр `default`\n",
    "- вам указаны типы данных"
   ]
  },
  {
   "cell_type": "code",
   "metadata": {
    "id": "ELJIgzJ7dQ1l",
    "ExecuteTime": {
     "end_time": "2025-04-04T19:50:25.803935Z",
     "start_time": "2025-04-04T19:50:25.800937Z"
    }
   },
   "source": [
    "# списки геймеров\n",
    "gocs2 = [\n",
    "    ['A', 18, 1.0, 'Alex'],\n",
    "    ['B', 18, 0.8, 'May be Alex'],\n",
    "    ['D', 18, 0.4, 'John'],\n",
    "    ['E', 18, 1.0, 'Defenitely not Alex'],\n",
    "]\n",
    "\n",
    "tado2 = [\n",
    "    ['B', 18, 0.0, 'Not Alex'],\n",
    "    ['C', 18, 0.5, 'Also Alex'],\n",
    "    ['D', 28, 0.9, 'Who is Alex?'],\n",
    "    ['F', 18, 0.1, 'Alexey'],\n",
    "]"
   ],
   "outputs": [],
   "execution_count": 45
  },
  {
   "cell_type": "code",
   "metadata": {
    "id": "nOqciGm-dQ1m",
    "tags": [],
    "ExecuteTime": {
     "end_time": "2025-04-04T19:50:27.057951Z",
     "start_time": "2025-04-04T19:50:27.054694Z"
    }
   },
   "source": [
    "from collections import namedtuple\n",
    "\n",
    "# Создаем именованные кортежи с значениями по умолчанию\n",
    "GOCS2Player = namedtuple('GOCS2Player', ['nickname', 'age', 'rating', 'real_name'], defaults=[0.5, 'newbee'])\n",
    "taDo2Player = namedtuple('taDo2Player', ['nickname', 'age', 'rating', 'real_name'], defaults=[4.2, 'player'])"
   ],
   "outputs": [],
   "execution_count": 47
  },
  {
   "cell_type": "code",
   "metadata": {
    "id": "Ngan7jgqdQ1m",
    "ExecuteTime": {
     "end_time": "2025-04-04T19:50:27.536783Z",
     "start_time": "2025-04-04T19:50:27.532967Z"
    }
   },
   "source": [
    "# Трансформируем данные об игроках в новые списки\n",
    "new_gocs2 = []\n",
    "for player in gocs2:\n",
    "    if len(player) == 2:  # Только nickname и age\n",
    "        new_gocs2.append(GOCS2Player(player[0], player[1]))\n",
    "    elif len(player) == 3:  # nickname, age, rating\n",
    "        new_gocs2.append(GOCS2Player(player[0], player[1], player[2]))\n",
    "    else:  # Полная информация\n",
    "        new_gocs2.append(GOCS2Player(*player))\n",
    "\n",
    "new_tado2 = []\n",
    "for player in tado2:\n",
    "    if len(player) == 2:  # Только nickname и age\n",
    "        new_tado2.append(taDo2Player(player[0], player[1]))\n",
    "    elif len(player) == 3:  # nickname, age, rating\n",
    "        new_tado2.append(taDo2Player(player[0], player[1], player[2]))\n",
    "    else:  # Полная информация\n",
    "        new_tado2.append(taDo2Player(*player))"
   ],
   "outputs": [],
   "execution_count": 48
  },
  {
   "cell_type": "code",
   "metadata": {
    "id": "Rc1-rrjcdQ1m",
    "ExecuteTime": {
     "end_time": "2025-04-04T19:50:34.019731Z",
     "start_time": "2025-04-04T19:50:34.015296Z"
    }
   },
   "source": [
    "# Находим количество людей, играющих в обе игры\n",
    "gocs2_nicknames = {player.nickname for player in new_gocs2}\n",
    "tado2_nicknames = {player.nickname for player in new_tado2}\n",
    "\n",
    "common_players = gocs2_nicknames.intersection(tado2_nicknames)\n",
    "print(len(common_players))  # Выводим количество общих игроков"
   ],
   "outputs": [
    {
     "name": "stdout",
     "output_type": "stream",
     "text": [
      "2\n"
     ]
    }
   ],
   "execution_count": 49
  }
 ],
 "metadata": {
  "colab": {
   "provenance": []
  },
  "kernelspec": {
   "display_name": "Python 3 (ipykernel)",
   "language": "python",
   "name": "python3"
  },
  "language_info": {
   "codemirror_mode": {
    "name": "ipython",
    "version": 3
   },
   "file_extension": ".py",
   "mimetype": "text/x-python",
   "name": "python",
   "nbconvert_exporter": "python",
   "pygments_lexer": "ipython3",
   "version": "3.12.7"
  }
 },
 "nbformat": 4,
 "nbformat_minor": 4
}
