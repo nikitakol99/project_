{
 "cells": [
  {
   "cell_type": "markdown",
   "metadata": {
    "id": "EVbqAmZF1ckK"
   },
   "source": [
    "# Домашнее задание 1"
   ]
  },
  {
   "cell_type": "markdown",
   "metadata": {
    "id": "dHcSzLfA1Dy3"
   },
   "source": [
    "- максимум за задание 10.5 первичных баллов\n",
    "- итоговая оценка ставится по формуле: `сумма_баллов // 2`\n",
    "- Часть 1 является обязательной к выполнению полностью"
   ]
  },
  {
   "cell_type": "markdown",
   "metadata": {
    "id": "MFHyfLRLX_8_",
    "tags": []
   },
   "source": [
    "## Часть 1 (2 балла). Одна длинная последовательная задача"
   ]
  },
  {
   "cell_type": "markdown",
   "metadata": {
    "id": "ZH8HnT2tX_8_"
   },
   "source": [
    "**Примечание:**\n",
    "\n",
    "- на самом деле это много задач на простейшие манипуляции, чтобы проверить, что вы усвоили материалы занятий\n",
    "- выполняйте эту _длинную последовательную задачу_ строго по порядку, так как следующие ячейки часто основаны на результатах предыдущих!\n",
    "- вам не нужно создавать дополнительные ячейки, только редактировать уже имеющиеся\n",
    "- если есть пустая ячейка для кода, то обычно в нее нужно написать что-то на языке Python (в одной такой ячейке надо будет просто написать комментарии - это отдельно указано)\n",
    "- в текстовых ячейках надо что-то вписывать в поле **Ответ**, которое уже создано для вас"
   ]
  },
  {
   "cell_type": "markdown",
   "metadata": {
    "id": "9X9dkkkEX_9A"
   },
   "source": [
    "Составьте выражение для вычисления значения $$2024^{42}$$"
   ]
  },
  {
   "cell_type": "code",
   "metadata": {
    "id": "gydfNkGLX_9A",
    "tags": [],
    "ExecuteTime": {
     "end_time": "2025-04-04T19:33:21.701802Z",
     "start_time": "2025-04-04T19:33:21.697136Z"
    }
   },
   "source": [
    "print(2024 ** 42)"
   ],
   "outputs": [
    {
     "name": "stdout",
     "output_type": "stream",
     "text": [
      "7258407440280244786655447961485456228673219097132963181680932504283108292152984806580886256281267069676680624384098679060769543187465240576\n"
     ]
    }
   ],
   "execution_count": 1
  },
  {
   "cell_type": "markdown",
   "metadata": {
    "id": "csXMaEWhX_9A"
   },
   "source": [
    "Найдите встроенную функцию, которая выполняет ту же математическую операцию. Выведите ниже справку по этой функции:"
   ]
  },
  {
   "cell_type": "code",
   "metadata": {
    "id": "RXs7VnATX_9A",
    "tags": [],
    "ExecuteTime": {
     "end_time": "2025-04-04T19:33:23.415082Z",
     "start_time": "2025-04-04T19:33:23.412483Z"
    }
   },
   "source": [
    "help(pow)"
   ],
   "outputs": [
    {
     "name": "stdout",
     "output_type": "stream",
     "text": [
      "Help on built-in function pow in module builtins:\n",
      "\n",
      "pow(base, exp, mod=None)\n",
      "    Equivalent to base**exp with 2 arguments or base**exp % mod with 3 arguments\n",
      "\n",
      "    Some types, such as ints, are able to use a more efficient algorithm when\n",
      "    invoked using the three argument form.\n",
      "\n"
     ]
    }
   ],
   "execution_count": 2
  },
  {
   "cell_type": "markdown",
   "metadata": {
    "id": "6kxgTNyEX_9B"
   },
   "source": [
    "Видим, что параметры не описаны, поэтому в следующей ячейке **в виде комментариев в коде** по-своему опишите каждый параметр этой функции и что она делает:"
   ]
  },
  {
   "cell_type": "code",
   "metadata": {
    "id": "agBfiIHtX_9B",
    "tags": [],
    "ExecuteTime": {
     "end_time": "2025-04-04T19:33:24.732843Z",
     "start_time": "2025-04-04T19:33:24.726866Z"
    }
   },
   "source": [
    "'''Функция pow возводит число в степень.\n",
    "Сигнатура функции pow() в Python представлена как pow(base, exp, mod=None), что означает следующее:\n",
    "base: это обязательный параметр, который представляет собой основание, то есть число, которое нужно возвести в степень.\n",
    "\n",
    "exp: это также обязательный параметр, который представляет собой показатель степени.\n",
    "\n",
    "mod=None: это необязательный параметр. Функция возвращает результат возведения в степень по модулю. Если модуль не указан (или равен None), \n",
    "функция просто возвратит результат возведения в степень без остатка. Если указать модуль, результат будет вычислён как (base  exp) % mod.\n",
    "Функция может быть использована в следующих формах:\n",
    "\n",
    "pow(base, exp): возводит base в степень exp.\n",
    "\n",
    "pow(base, exp, mod): возводит base в степень exp и осуществляет деление по модулю mod, возвращая остаток от деления.'''"
   ],
   "outputs": [
    {
     "data": {
      "text/plain": [
       "'Функция pow возводит число в степень.\\nСигнатура функции pow() в Python представлена как pow(base, exp, mod=None), что означает следующее:\\nbase: это обязательный параметр, который представляет собой основание, то есть число, которое нужно возвести в степень.\\n\\nexp: это также обязательный параметр, который представляет собой показатель степени.\\n\\nmod=None: это необязательный параметр. Функция возвращает результат возведения в степень по модулю. Если модуль не указан (или равен None), \\nфункция просто возвратит результат возведения в степень без остатка. Если указать модуль, результат будет вычислён как (base  exp) % mod.\\nФункция может быть использована в следующих формах:\\n\\npow(base, exp): возводит base в степень exp.\\n\\npow(base, exp, mod): возводит base в степень exp и осуществляет деление по модулю mod, возвращая остаток от деления.'"
      ]
     },
     "execution_count": 3,
     "metadata": {},
     "output_type": "execute_result"
    }
   ],
   "execution_count": 3
  },
  {
   "cell_type": "markdown",
   "metadata": {
    "id": "X3nzx_y5X_9B"
   },
   "source": [
    "Воспользуйтесь ею в ячейке ниже для подсчета $2024^{42}$, сохранив результат в переменную `answer`."
   ]
  },
  {
   "cell_type": "code",
   "metadata": {
    "id": "6CZ2ZladX_9B",
    "ExecuteTime": {
     "end_time": "2025-04-04T19:33:26.011699Z",
     "start_time": "2025-04-04T19:33:26.009134Z"
    }
   },
   "source": [
    "import math\n",
    "answer = pow(2024, 24)"
   ],
   "outputs": [],
   "execution_count": 4
  },
  {
   "cell_type": "markdown",
   "metadata": {
    "id": "AuZj_fDEX_9B"
   },
   "source": [
    "В двух разных ячейках выведите значение этой переменной с использованием функции `print` и без."
   ]
  },
  {
   "cell_type": "code",
   "metadata": {
    "id": "fx984agwX_9C",
    "ExecuteTime": {
     "end_time": "2025-04-04T19:33:27.142266Z",
     "start_time": "2025-04-04T19:33:27.139378Z"
    }
   },
   "source": [
    "answer"
   ],
   "outputs": [
    {
     "data": {
      "text/plain": [
       "22338406826093619917758244560824328666216859186861559166435847036068919064395776"
      ]
     },
     "execution_count": 5,
     "metadata": {},
     "output_type": "execute_result"
    }
   ],
   "execution_count": 5
  },
  {
   "cell_type": "code",
   "metadata": {
    "id": "WEc-EZ8tX_9C",
    "ExecuteTime": {
     "end_time": "2025-04-04T19:33:27.772223Z",
     "start_time": "2025-04-04T19:33:27.769186Z"
    }
   },
   "source": [
    "print(answer)"
   ],
   "outputs": [
    {
     "name": "stdout",
     "output_type": "stream",
     "text": [
      "22338406826093619917758244560824328666216859186861559166435847036068919064395776\n"
     ]
    }
   ],
   "execution_count": 6
  },
  {
   "cell_type": "markdown",
   "metadata": {
    "id": "6rTqUEd0X_9C"
   },
   "source": [
    "Опишите своими словами, почему вывод после двух предыдущих ячеек _выглядит_ по-разному.\n",
    "\n",
    "**Ответ:** в первом сдучае мы зарядили просто переменную answer, и наша среда отобразила ответ в дубликате ячейке. По факту при обращении к answer ничего не происходит. Мы видим присвоенное значение answer, потому что нам это позволяет JupiterLab. А во втором случае выполнился print в той же самой ячейке. Эта строка действительно выводит значение переменной answer на экран, поэтому именно здесь происходит фактический вывод."
   ]
  },
  {
   "cell_type": "markdown",
   "metadata": {
    "id": "6WgOi2SXX_9C"
   },
   "source": [
    "В следующей ячейке снова напечатайте `answer` с помощью функции `print`, направив вывод в стандартный поток ошибок."
   ]
  },
  {
   "cell_type": "code",
   "metadata": {
    "id": "LDg8tFdzX_9C",
    "ExecuteTime": {
     "end_time": "2025-04-04T19:33:29.648491Z",
     "start_time": "2025-04-04T19:33:29.644562Z"
    }
   },
   "source": [
    "import sys\n",
    "print(answer, file=sys.stderr)"
   ],
   "outputs": [
    {
     "name": "stderr",
     "output_type": "stream",
     "text": [
      "22338406826093619917758244560824328666216859186861559166435847036068919064395776\n"
     ]
    }
   ],
   "execution_count": 7
  },
  {
   "cell_type": "markdown",
   "metadata": {
    "id": "a6Hk5atiX_9C"
   },
   "source": [
    "### Эйлер и пять фундаментальных констант математики (0.5)"
   ]
  },
  {
   "cell_type": "markdown",
   "metadata": {
    "id": "LYgXEgfNX_9C"
   },
   "source": [
    "Создайте две ненулевые целочисленные переменные `re` и `im`:"
   ]
  },
  {
   "cell_type": "code",
   "metadata": {
    "id": "bIkx8HN7X_9C",
    "tags": [],
    "ExecuteTime": {
     "end_time": "2025-04-04T19:35:05.237834Z",
     "start_time": "2025-04-04T19:35:05.231938Z"
    }
   },
   "source": [
    "re = 5\n",
    "im = 3"
   ],
   "outputs": [],
   "execution_count": 8
  },
  {
   "cell_type": "markdown",
   "metadata": {
    "id": "1Enzkz-UX_9C"
   },
   "source": [
    "С помощью комбинации клавиш shift+tab получите справку функции `complex`:"
   ]
  },
  {
   "cell_type": "code",
   "metadata": {
    "id": "t3M_L496X_9C",
    "ExecuteTime": {
     "end_time": "2025-04-04T19:35:06.483761Z",
     "start_time": "2025-04-04T19:35:06.470325Z"
    }
   },
   "source": [
    "help (complex())"
   ],
   "outputs": [
    {
     "name": "stdout",
     "output_type": "stream",
     "text": [
      "Help on complex object:\n",
      "\n",
      "class complex(object)\n",
      " |  complex(real=0, imag=0)\n",
      " |\n",
      " |  Create a complex number from a real part and an optional imaginary part.\n",
      " |\n",
      " |  This is equivalent to (real + imag*1j) where imag defaults to 0.\n",
      " |\n",
      " |  Methods defined here:\n",
      " |\n",
      " |  __abs__(self, /)\n",
      " |      abs(self)\n",
      " |\n",
      " |  __add__(self, value, /)\n",
      " |      Return self+value.\n",
      " |\n",
      " |  __bool__(self, /)\n",
      " |      True if self else False\n",
      " |\n",
      " |  __complex__(self, /)\n",
      " |      Convert this value to exact type complex.\n",
      " |\n",
      " |  __eq__(self, value, /)\n",
      " |      Return self==value.\n",
      " |\n",
      " |  __format__(self, format_spec, /)\n",
      " |      Convert to a string according to format_spec.\n",
      " |\n",
      " |  __ge__(self, value, /)\n",
      " |      Return self>=value.\n",
      " |\n",
      " |  __getattribute__(self, name, /)\n",
      " |      Return getattr(self, name).\n",
      " |\n",
      " |  __getnewargs__(self, /)\n",
      " |\n",
      " |  __gt__(self, value, /)\n",
      " |      Return self>value.\n",
      " |\n",
      " |  __hash__(self, /)\n",
      " |      Return hash(self).\n",
      " |\n",
      " |  __le__(self, value, /)\n",
      " |      Return self<=value.\n",
      " |\n",
      " |  __lt__(self, value, /)\n",
      " |      Return self<value.\n",
      " |\n",
      " |  __mul__(self, value, /)\n",
      " |      Return self*value.\n",
      " |\n",
      " |  __ne__(self, value, /)\n",
      " |      Return self!=value.\n",
      " |\n",
      " |  __neg__(self, /)\n",
      " |      -self\n",
      " |\n",
      " |  __pos__(self, /)\n",
      " |      +self\n",
      " |\n",
      " |  __pow__(self, value, mod=None, /)\n",
      " |      Return pow(self, value, mod).\n",
      " |\n",
      " |  __radd__(self, value, /)\n",
      " |      Return value+self.\n",
      " |\n",
      " |  __repr__(self, /)\n",
      " |      Return repr(self).\n",
      " |\n",
      " |  __rmul__(self, value, /)\n",
      " |      Return value*self.\n",
      " |\n",
      " |  __rpow__(self, value, mod=None, /)\n",
      " |      Return pow(value, self, mod).\n",
      " |\n",
      " |  __rsub__(self, value, /)\n",
      " |      Return value-self.\n",
      " |\n",
      " |  __rtruediv__(self, value, /)\n",
      " |      Return value/self.\n",
      " |\n",
      " |  __sub__(self, value, /)\n",
      " |      Return self-value.\n",
      " |\n",
      " |  __truediv__(self, value, /)\n",
      " |      Return self/value.\n",
      " |\n",
      " |  conjugate(self, /)\n",
      " |      Return the complex conjugate of its argument. (3-4j).conjugate() == 3+4j.\n",
      " |\n",
      " |  ----------------------------------------------------------------------\n",
      " |  Static methods defined here:\n",
      " |\n",
      " |  __new__(*args, **kwargs) from builtins.type\n",
      " |      Create and return a new object.  See help(type) for accurate signature.\n",
      " |\n",
      " |  ----------------------------------------------------------------------\n",
      " |  Data descriptors defined here:\n",
      " |\n",
      " |  imag\n",
      " |      the imaginary part of a complex number\n",
      " |\n",
      " |  real\n",
      " |      the real part of a complex number\n",
      "\n"
     ]
    }
   ],
   "execution_count": 9
  },
  {
   "cell_type": "markdown",
   "metadata": {
    "id": "phG40sXrX_9D",
    "tags": []
   },
   "source": [
    "Воспользуйтесь указанным там выражением, чтобы создать комплексное число с помощью созданных переменных:"
   ]
  },
  {
   "cell_type": "code",
   "metadata": {
    "id": "ZdW5QjExX_9D",
    "tags": [],
    "ExecuteTime": {
     "end_time": "2025-04-04T19:35:08.519874Z",
     "start_time": "2025-04-04T19:35:08.516910Z"
    }
   },
   "source": [
    "complex_number = complex(re, im)\n",
    "print(complex_number)"
   ],
   "outputs": [
    {
     "name": "stdout",
     "output_type": "stream",
     "text": [
      "(5+3j)\n"
     ]
    }
   ],
   "execution_count": 10
  },
  {
   "cell_type": "markdown",
   "metadata": {
    "id": "xiVgj-xDX_9D"
   },
   "source": [
    "Просто выведите мнимую единицу:"
   ]
  },
  {
   "cell_type": "code",
   "metadata": {
    "id": "fthpnGj0X_9D",
    "tags": [],
    "ExecuteTime": {
     "end_time": "2025-04-04T19:35:09.898443Z",
     "start_time": "2025-04-04T19:35:09.895700Z"
    }
   },
   "source": [
    "print(complex_number.imag)"
   ],
   "outputs": [
    {
     "name": "stdout",
     "output_type": "stream",
     "text": [
      "3.0\n"
     ]
    }
   ],
   "execution_count": 11
  },
  {
   "cell_type": "markdown",
   "metadata": {
    "id": "vPpheBeqX_9D"
   },
   "source": [
    "Тождество Эйлера, связывающее пять фундаментальных констант: $${\\displaystyle e^{i\\pi}+1=0}$$\n"
   ]
  },
  {
   "cell_type": "markdown",
   "metadata": {
    "id": "CdP97-L6X_9D"
   },
   "source": [
    "Попробуйте убедиться в правдивости этого тождества с помощью Python'а. Для этого запишите **это тождество** в виде выражения:"
   ]
  },
  {
   "cell_type": "code",
   "metadata": {
    "id": "7RmmWllQX_9D",
    "tags": [],
    "ExecuteTime": {
     "end_time": "2025-04-04T19:35:16.572824Z",
     "start_time": "2025-04-04T19:35:16.537334Z"
    }
   },
   "source": [
    "import cmath\n",
    "import math\n",
    "print(bool(cmath.exp(1j * math.pi) + 1 == 0))\n",
    "print(cmath.exp(1j * math.pi) + 1)"
   ],
   "outputs": [
    {
     "name": "stdout",
     "output_type": "stream",
     "text": [
      "False\n",
      "1.2246467991473532e-16j\n"
     ]
    }
   ],
   "execution_count": 12
  },
  {
   "cell_type": "markdown",
   "metadata": {
    "id": "McUkABNvX_9D"
   },
   "source": [
    "Из-за какой особенности чисел внутри компьютера не получается математически корректный ответ в предыдущей ячейке?\n",
    "\n",
    "**Ответ:** проблема возникает в том, что компьютер не может округлить столь малое число корренктно исходя из своих особенностей."
   ]
  },
  {
   "cell_type": "markdown",
   "metadata": {
    "id": "-OuDzYc0X_9D"
   },
   "source": [
    "Попробуйте воспользоваться встроенной функцией для округления чисел над левой частью тождества. Прочитайте описание ошибки и попробуйте своими словами кратко описать, почему она произошла."
   ]
  },
  {
   "cell_type": "code",
   "metadata": {
    "id": "rW2OAdUCX_9E",
    "scrolled": true,
    "tags": [],
    "ExecuteTime": {
     "end_time": "2025-04-04T19:35:18.388457Z",
     "start_time": "2025-04-04T19:35:18.283992Z"
    }
   },
   "source": [
    "print(round(cmath.exp(1j * math.pi) + 1), 10)"
   ],
   "outputs": [
    {
     "ename": "TypeError",
     "evalue": "type complex doesn't define __round__ method",
     "output_type": "error",
     "traceback": [
      "\u001B[0;31m---------------------------------------------------------------------------\u001B[0m",
      "\u001B[0;31mTypeError\u001B[0m                                 Traceback (most recent call last)",
      "Cell \u001B[0;32mIn[13], line 1\u001B[0m\n\u001B[0;32m----> 1\u001B[0m \u001B[38;5;28mprint\u001B[39m(\u001B[38;5;28;43mround\u001B[39;49m\u001B[43m(\u001B[49m\u001B[43mcmath\u001B[49m\u001B[38;5;241;43m.\u001B[39;49m\u001B[43mexp\u001B[49m\u001B[43m(\u001B[49m\u001B[38;5;241;43m1\u001B[39;49m\u001B[43mj\u001B[49m\u001B[43m \u001B[49m\u001B[38;5;241;43m*\u001B[39;49m\u001B[43m \u001B[49m\u001B[43mmath\u001B[49m\u001B[38;5;241;43m.\u001B[39;49m\u001B[43mpi\u001B[49m\u001B[43m)\u001B[49m\u001B[43m \u001B[49m\u001B[38;5;241;43m+\u001B[39;49m\u001B[43m \u001B[49m\u001B[38;5;241;43m1\u001B[39;49m\u001B[43m)\u001B[49m, \u001B[38;5;241m10\u001B[39m)\n",
      "\u001B[0;31mTypeError\u001B[0m: type complex doesn't define __round__ method"
     ]
    }
   ],
   "execution_count": 13
  },
  {
   "cell_type": "markdown",
   "metadata": {
    "id": "FsBUydRlX_9E"
   },
   "source": [
    "**Ответ:** Функция round() не поддерживает округление комплексных чисел в Python. Нужно просто выделить реальную часть и округлить ее."
   ]
  },
  {
   "cell_type": "markdown",
   "metadata": {
    "id": "4Km6DVS8X_9E"
   },
   "source": [
    "### Число гугол (0.5)"
   ]
  },
  {
   "cell_type": "markdown",
   "metadata": {
    "id": "-8sF5a77X_9E"
   },
   "source": [
    "Выясните длину числа гугол с помощью кода (по аналогии с занятием):"
   ]
  },
  {
   "cell_type": "code",
   "metadata": {
    "id": "yPGkZW7bX_9E",
    "ExecuteTime": {
     "end_time": "2025-04-04T19:35:30.159789Z",
     "start_time": "2025-04-04T19:35:30.153625Z"
    }
   },
   "source": [
    "print(len(str(10 ** 100)))"
   ],
   "outputs": [
    {
     "name": "stdout",
     "output_type": "stream",
     "text": [
      "101\n"
     ]
    }
   ],
   "execution_count": 14
  },
  {
   "cell_type": "markdown",
   "metadata": {
    "id": "nlzP_dSSX_9E"
   },
   "source": [
    "Узнайте, между какими степенями двойки находится число гугол. Например, число `1000` находится между 9-ой и 10-ой степенями двойки. Ответ запишите в переменных с именами `min_` и `max_` и выведите их значения.\n",
    "\n",
    "**Подсказка:** здесь вам может помочь цикл `while`, но есть и однострочное решение без цикла - засчитывается любое."
   ]
  },
  {
   "cell_type": "code",
   "metadata": {
    "id": "48K9dMimX_9E",
    "tags": [],
    "ExecuteTime": {
     "end_time": "2025-04-04T19:35:31.432925Z",
     "start_time": "2025-04-04T19:35:31.428751Z"
    }
   },
   "source": [
    "import math\n",
    "x = (10 ** 100)\n",
    "log2_x = x.bit_length() - 1\n",
    "min_ = log2_x\n",
    "max_ = log2_x + 1\n",
    "print(\"min_:\", min_)\n",
    "print(\"max_:\", max_)"
   ],
   "outputs": [
    {
     "name": "stdout",
     "output_type": "stream",
     "text": [
      "min_: 332\n",
      "max_: 333\n"
     ]
    }
   ],
   "execution_count": 15
  },
  {
   "cell_type": "markdown",
   "metadata": {
    "id": "GrDqMKzSX_9E"
   },
   "source": [
    "### Формула Эйлера * (1)"
   ]
  },
  {
   "cell_type": "markdown",
   "metadata": {
    "id": "u973BMILX_9I"
   },
   "source": [
    "\n",
    "$${\\displaystyle e^{ix}=\\cos x+i\\sin x}$$\n"
   ]
  },
  {
   "cell_type": "markdown",
   "metadata": {
    "id": "jIeymI7sX_9I"
   },
   "source": [
    "Запишите эту формулу с помощью Python'а, как и тождество Эйлера. Для `x` просто заведите свою переменную. Если вы все запишете правильно, то в выводе ячейки получите `True`."
   ]
  },
  {
   "cell_type": "code",
   "metadata": {
    "id": "Ejo2pKOjX_9I",
    "tags": [],
    "ExecuteTime": {
     "end_time": "2025-04-04T19:35:34.140976Z",
     "start_time": "2025-04-04T19:35:34.137475Z"
    }
   },
   "source": [
    "import math\n",
    "import cmath\n",
    "x = 1\n",
    "left = cmath.exp(1j * x)\n",
    "right = cmath.cos(x) + 1j * cmath.sin(x)\n",
    "print(bool(left == right))"
   ],
   "outputs": [
    {
     "name": "stdout",
     "output_type": "stream",
     "text": [
      "True\n"
     ]
    }
   ],
   "execution_count": 16
  },
  {
   "cell_type": "markdown",
   "metadata": {
    "id": "tgxjawVmX_9I"
   },
   "source": [
    "Следующую задачу сначала можно пропустить, так как она достаточно объемная. Тем не менее все необходимое для ее решения мы проходили.\n",
    "\n",
    "Вам дан список `xs`, в котором находятся целые числа. Пройдитесь по нему с помощью цикла `for`, печатая в стандартный поток ошибок сообщение по шаблону `'cosx + i sinx = _'`, если индекс числа четный и само число нечетное. В противном случае печатайте число в стандартный поток вывода, переводя его перед этим в двоичную систему счисления для четных чисел и в восьмеричную для нечетных.\n",
    "\n",
    "**Указания:**\n",
    "\n",
    "- в шаблоне `'cosx + i sinx = _'` вместо `x` надо подставлять текущее число, а вместо нижнего подчеркивания - значение выражения\n",
    "- для вывода сообщения по шаблону воспользуйтесь механизмом f-strings\n",
    "- воспользуйтесь функцией `enumerate` для одновременного доступа к индексу и объекту\n",
    "- вы должны использовать соответствующие встроенные функции для перевода чисел в другие системы счисления (их нужно найти)\n",
    "\n"
   ]
  },
  {
   "cell_type": "code",
   "metadata": {
    "id": "_DyHaINpX_9I",
    "tags": [],
    "ExecuteTime": {
     "end_time": "2025-04-04T19:35:35.184526Z",
     "start_time": "2025-04-04T19:35:35.181790Z"
    }
   },
   "source": [
    "xs = [1, 10, 13, 42, 98, 99, 137, 512, 1001, 1024, 2048, 4096, 8192, 10001]"
   ],
   "outputs": [],
   "execution_count": 17
  },
  {
   "cell_type": "code",
   "metadata": {
    "id": "5fl2U-lDX_9I",
    "ExecuteTime": {
     "end_time": "2025-04-04T19:35:35.711049Z",
     "start_time": "2025-04-04T19:35:35.708664Z"
    }
   },
   "source": [
    "import math\n",
    "import sys\n",
    "\n",
    "for index, number in enumerate(xs):\n",
    "    if index % 2 == 0 and number % 2 != 0:\n",
    "        cos_value = math.cos(number)\n",
    "        sin_value = math.sin(number)\n",
    "        result = f'cos{number} + i sin{number} = {cos_value + 1j * sin_value}'\n",
    "        print(result, file=sys.stderr) \n",
    "    else:\n",
    "        if number % 2 == 0:\n",
    "            print(bin(number))\n",
    "        else:\n",
    "            print(oct(number))"
   ],
   "outputs": [
    {
     "name": "stdout",
     "output_type": "stream",
     "text": [
      "0b1010\n",
      "0b101010\n",
      "0b1100010\n",
      "0o143\n",
      "0b1000000000\n",
      "0b10000000000\n",
      "0b100000000000\n",
      "0b1000000000000\n",
      "0b10000000000000\n",
      "0o23421\n"
     ]
    },
    {
     "name": "stderr",
     "output_type": "stream",
     "text": [
      "cos1 + i sin1 = (0.5403023058681398+0.8414709848078965j)\n",
      "cos13 + i sin13 = (0.9074467814501962+0.4201670368266409j)\n",
      "cos137 + i sin137 = (0.33416538263076073-0.9425144545582509j)\n",
      "cos1001 + i sin1001 = (-0.3919404295971039+0.9199905975863218j)\n"
     ]
    }
   ],
   "execution_count": 18
  },
  {
   "cell_type": "markdown",
   "metadata": {
    "id": "zMkuW190X_9I"
   },
   "source": [
    "## Часть 2 (8.5 баллов). Далее задачи можно выполнять в произвольном порядке."
   ]
  },
  {
   "cell_type": "markdown",
   "metadata": {
    "id": "klahQfnxX_9I"
   },
   "source": [
    "**Указания:**\n",
    "\n",
    "- **запрещено** пользоваться методами списков и строк, а также срезами строк\n",
    "- **все** задания решаются с помощью материала **первых двух лекций**\n",
    "- если отдельно указана дополнительная ячейка, то задачу можно решить в одну строку в ней, но гнаться за подобным не нужно - всему свое время!\n",
    "- можете указать два решения\n",
    "- отвечать на вопросы в чате надо описанием идеи или указанием на источники - не лишайте других радости от **самостоятельно** найденного решения!\n",
    "- если есть примеры ввода и вывода, то они могут помочь понять, в какую сторону двигаться\n",
    "- ваш код должен работать не только на указанных примерах!\n",
    "\n",
    "**Подсказки:**\n",
    "\n",
    "- вам часто понадобятся циклы (в основном `for`)\n",
    "- как добавить в конец или удалить с конца элемент списка, если нельзя пользоваться методами?\n",
    "    > `xs = xs + [d]`\n",
    "\n",
    "    > `xs = xs[:-1]`\n",
    "- `xs[i] == 'a'` - проверка, что i-ый элемент списка `xs` является символом `'a'`\n",
    "- `int('10')`, `str(10)`\n",
    "- `list('строка')`\n",
    "- `reversed`\n",
    "- не пренебрегайте встроенными функциями"
   ]
  },
  {
   "cell_type": "markdown",
   "metadata": {
    "id": "QMlUzOq0oAI5"
   },
   "source": [
    "### Задача 1 (0.5). Максимальный элемент.\n",
    "\n",
    "Вам даны два списка с числами. Нужно вывести тот, который содержит максимальное число. Если оно встречается в обоих списках - выведите любой."
   ]
  },
  {
   "cell_type": "markdown",
   "metadata": {
    "id": "LqTAjBrNzVw9"
   },
   "source": [
    "#### Пример\n",
    "\n",
    "**Ввод:**\n",
    "\n",
    "```\n",
    "xs1 = [0, 1, 2]\n",
    "xs2 = [98, 99]\n",
    "```\n",
    "\n",
    "**Вывод:**\n",
    "\n",
    "```\n",
    "[98, 99]\n",
    "```"
   ]
  },
  {
   "cell_type": "code",
   "metadata": {
    "id": "s8S2idAn-C8R",
    "ExecuteTime": {
     "end_time": "2025-04-04T19:35:38.667305Z",
     "start_time": "2025-04-04T19:35:38.664428Z"
    }
   },
   "source": [
    "# задайте списки самостоятельно\n",
    "xs1 = 1, 3, 5, 7, 9, 11, 13, 15, 17, 19, 21\n",
    "xs2 = 0, 2, 4, 6, 8, 10, 12, 14, 16, 18, 20"
   ],
   "outputs": [],
   "execution_count": 19
  },
  {
   "cell_type": "code",
   "metadata": {
    "id": "rwJIfKOdnfGW",
    "ExecuteTime": {
     "end_time": "2025-04-04T19:43:43.979162Z",
     "start_time": "2025-04-04T19:43:43.971871Z"
    }
   },
   "source": [
    "\n",
    "list1 = [1, 3, 5, 7, 9, 11, 13, 15, 17, 19, 21]\n",
    "list2 = [0, 2, 4, 6, 8, 11, 10, 12, 14, 16, 18, 20]\n",
    "\n",
    "\n",
    "max1 = float('-inf')\n",
    "max2 = float('-inf')\n",
    "\n",
    "\n",
    "for num in list1:\n",
    "    if num > max1:\n",
    "        max1 = num\n",
    "\n",
    "\n",
    "for num in list2:\n",
    "    if num > max2:\n",
    "        max2 = num\n",
    "\n",
    "\n",
    "if max1 >= max2:\n",
    "    print(max1)\n",
    "else:\n",
    "    print(max2)"
   ],
   "outputs": [
    {
     "name": "stdout",
     "output_type": "stream",
     "text": [
      "[1, 3, 5, 7, 9, 11, 13, 15, 17, 19, 21]\n"
     ]
    }
   ],
   "execution_count": 40
  },
  {
   "cell_type": "code",
   "metadata": {
    "id": "00dRGuUAK1_T",
    "ExecuteTime": {
     "end_time": "2025-04-04T19:35:39.666903Z",
     "start_time": "2025-04-04T19:35:39.664209Z"
    }
   },
   "source": [
    "# дополнительная ячейка для решения в одну строку"
   ],
   "outputs": [],
   "execution_count": 21
  },
  {
   "cell_type": "markdown",
   "metadata": {
    "id": "0PxuwdtZoB9-"
   },
   "source": [
    "### Задача 2 (0.7). Встречающиеся символы\n",
    "\n",
    "Вы получаете на вход две строки. Нужно вывести все уникальные символы, которые встречаются хотя бы в одной из этих строк.\n",
    "\n",
    "**Примечание:** `set` использовать нельзя."
   ]
  },
  {
   "cell_type": "markdown",
   "metadata": {
    "id": "euYQ05rO0Be9"
   },
   "source": [
    "#### Пример\n",
    "\n",
    "**Ввод:**\n",
    "\n",
    "```\n",
    "aabccdee\n",
    "ddeffggaaz\n",
    "```\n",
    "\n",
    "**Вывод:**\n",
    "\n",
    "```\n",
    "abcdefgz\n",
    "```"
   ]
  },
  {
   "cell_type": "code",
   "metadata": {
    "id": "hScgKDMq-bx4",
    "ExecuteTime": {
     "end_time": "2025-04-04T19:37:26.479228Z",
     "start_time": "2025-04-04T19:37:21.205638Z"
    }
   },
   "source": [
    "a = input(\"Введите строку 1: \")\n",
    "b = input(\"Введите строку 2: \")"
   ],
   "outputs": [
    {
     "ename": "KeyboardInterrupt",
     "evalue": "Interrupted by user",
     "output_type": "error",
     "traceback": [
      "\u001B[0;31m---------------------------------------------------------------------------\u001B[0m",
      "\u001B[0;31mKeyboardInterrupt\u001B[0m                         Traceback (most recent call last)",
      "Cell \u001B[0;32mIn[22], line 2\u001B[0m\n\u001B[1;32m      1\u001B[0m a \u001B[38;5;241m=\u001B[39m \u001B[38;5;28minput\u001B[39m(\u001B[38;5;124m\"\u001B[39m\u001B[38;5;124mВведите строку 1: \u001B[39m\u001B[38;5;124m\"\u001B[39m)\n\u001B[0;32m----> 2\u001B[0m b \u001B[38;5;241m=\u001B[39m \u001B[38;5;28;43minput\u001B[39;49m\u001B[43m(\u001B[49m\u001B[38;5;124;43m\"\u001B[39;49m\u001B[38;5;124;43mВведите строку 2: \u001B[39;49m\u001B[38;5;124;43m\"\u001B[39;49m\u001B[43m)\u001B[49m\n",
      "File \u001B[0;32m~/PyCharmMiscProject/.venv/lib/python3.12/site-packages/ipykernel/kernelbase.py:1282\u001B[0m, in \u001B[0;36mKernel.raw_input\u001B[0;34m(self, prompt)\u001B[0m\n\u001B[1;32m   1280\u001B[0m     msg \u001B[38;5;241m=\u001B[39m \u001B[38;5;124m\"\u001B[39m\u001B[38;5;124mraw_input was called, but this frontend does not support input requests.\u001B[39m\u001B[38;5;124m\"\u001B[39m\n\u001B[1;32m   1281\u001B[0m     \u001B[38;5;28;01mraise\u001B[39;00m StdinNotImplementedError(msg)\n\u001B[0;32m-> 1282\u001B[0m \u001B[38;5;28;01mreturn\u001B[39;00m \u001B[38;5;28;43mself\u001B[39;49m\u001B[38;5;241;43m.\u001B[39;49m\u001B[43m_input_request\u001B[49m\u001B[43m(\u001B[49m\n\u001B[1;32m   1283\u001B[0m \u001B[43m    \u001B[49m\u001B[38;5;28;43mstr\u001B[39;49m\u001B[43m(\u001B[49m\u001B[43mprompt\u001B[49m\u001B[43m)\u001B[49m\u001B[43m,\u001B[49m\n\u001B[1;32m   1284\u001B[0m \u001B[43m    \u001B[49m\u001B[38;5;28;43mself\u001B[39;49m\u001B[38;5;241;43m.\u001B[39;49m\u001B[43m_parent_ident\u001B[49m\u001B[43m[\u001B[49m\u001B[38;5;124;43m\"\u001B[39;49m\u001B[38;5;124;43mshell\u001B[39;49m\u001B[38;5;124;43m\"\u001B[39;49m\u001B[43m]\u001B[49m\u001B[43m,\u001B[49m\n\u001B[1;32m   1285\u001B[0m \u001B[43m    \u001B[49m\u001B[38;5;28;43mself\u001B[39;49m\u001B[38;5;241;43m.\u001B[39;49m\u001B[43mget_parent\u001B[49m\u001B[43m(\u001B[49m\u001B[38;5;124;43m\"\u001B[39;49m\u001B[38;5;124;43mshell\u001B[39;49m\u001B[38;5;124;43m\"\u001B[39;49m\u001B[43m)\u001B[49m\u001B[43m,\u001B[49m\n\u001B[1;32m   1286\u001B[0m \u001B[43m    \u001B[49m\u001B[43mpassword\u001B[49m\u001B[38;5;241;43m=\u001B[39;49m\u001B[38;5;28;43;01mFalse\u001B[39;49;00m\u001B[43m,\u001B[49m\n\u001B[1;32m   1287\u001B[0m \u001B[43m\u001B[49m\u001B[43m)\u001B[49m\n",
      "File \u001B[0;32m~/PyCharmMiscProject/.venv/lib/python3.12/site-packages/ipykernel/kernelbase.py:1325\u001B[0m, in \u001B[0;36mKernel._input_request\u001B[0;34m(self, prompt, ident, parent, password)\u001B[0m\n\u001B[1;32m   1322\u001B[0m \u001B[38;5;28;01mexcept\u001B[39;00m \u001B[38;5;167;01mKeyboardInterrupt\u001B[39;00m:\n\u001B[1;32m   1323\u001B[0m     \u001B[38;5;66;03m# re-raise KeyboardInterrupt, to truncate traceback\u001B[39;00m\n\u001B[1;32m   1324\u001B[0m     msg \u001B[38;5;241m=\u001B[39m \u001B[38;5;124m\"\u001B[39m\u001B[38;5;124mInterrupted by user\u001B[39m\u001B[38;5;124m\"\u001B[39m\n\u001B[0;32m-> 1325\u001B[0m     \u001B[38;5;28;01mraise\u001B[39;00m \u001B[38;5;167;01mKeyboardInterrupt\u001B[39;00m(msg) \u001B[38;5;28;01mfrom\u001B[39;00m \u001B[38;5;28;01mNone\u001B[39;00m\n\u001B[1;32m   1326\u001B[0m \u001B[38;5;28;01mexcept\u001B[39;00m \u001B[38;5;167;01mException\u001B[39;00m:\n\u001B[1;32m   1327\u001B[0m     \u001B[38;5;28mself\u001B[39m\u001B[38;5;241m.\u001B[39mlog\u001B[38;5;241m.\u001B[39mwarning(\u001B[38;5;124m\"\u001B[39m\u001B[38;5;124mInvalid Message:\u001B[39m\u001B[38;5;124m\"\u001B[39m, exc_info\u001B[38;5;241m=\u001B[39m\u001B[38;5;28;01mTrue\u001B[39;00m)\n",
      "\u001B[0;31mKeyboardInterrupt\u001B[0m: Interrupted by user"
     ]
    }
   ],
   "execution_count": 22
  },
  {
   "cell_type": "code",
   "metadata": {
    "id": "9T9ue6_h-RA0",
    "ExecuteTime": {
     "end_time": "2025-04-04T19:37:28.568785Z",
     "start_time": "2025-04-04T19:37:28.557113Z"
    }
   },
   "source": [
    "combined_str = a + b\n",
    "unique_chars = \"\"\n",
    "\n",
    "for char in combined_str:\n",
    "    if char not in unique_chars:\n",
    "        unique_chars += char\n",
    "\n",
    "print(unique_chars)"
   ],
   "outputs": [
    {
     "ename": "NameError",
     "evalue": "name 'b' is not defined",
     "output_type": "error",
     "traceback": [
      "\u001B[0;31m---------------------------------------------------------------------------\u001B[0m",
      "\u001B[0;31mNameError\u001B[0m                                 Traceback (most recent call last)",
      "Cell \u001B[0;32mIn[23], line 1\u001B[0m\n\u001B[0;32m----> 1\u001B[0m combined_str \u001B[38;5;241m=\u001B[39m a \u001B[38;5;241m+\u001B[39m \u001B[43mb\u001B[49m\n\u001B[1;32m      2\u001B[0m unique_chars \u001B[38;5;241m=\u001B[39m \u001B[38;5;124m\"\u001B[39m\u001B[38;5;124m\"\u001B[39m\n\u001B[1;32m      4\u001B[0m \u001B[38;5;28;01mfor\u001B[39;00m char \u001B[38;5;129;01min\u001B[39;00m combined_str:\n",
      "\u001B[0;31mNameError\u001B[0m: name 'b' is not defined"
     ]
    }
   ],
   "execution_count": 23
  },
  {
   "cell_type": "code",
   "metadata": {
    "id": "WL4coVGvLXnM",
    "ExecuteTime": {
     "end_time": "2025-04-04T19:37:30.076482Z",
     "start_time": "2025-04-04T19:37:30.073574Z"
    }
   },
   "source": [
    "# дополнительная ячейка для решения с set в одну строку"
   ],
   "outputs": [],
   "execution_count": 24
  },
  {
   "cell_type": "markdown",
   "metadata": {
    "id": "D-7vU_xMoGXW"
   },
   "source": [
    "### Задача 3 (0.8). 100 раз подряд в квадрате\n",
    "\n",
    "Вы получаете на вход число `n`. Нужно записать его 100 раз подряд и напечатать, а затем напечатать квадрат этого нового числа.\n",
    "\n",
    "$$n\\to\\underbrace{nnn\\ldots n}_{100\\text{ раз}}\\to(\\underbrace{nnn\\ldots n}_{100\\text{ раз}})^2$$"
   ]
  },
  {
   "cell_type": "markdown",
   "metadata": {
    "id": "Po1h0VLB0LiQ"
   },
   "source": [
    "#### Пример\n",
    "\n",
    "**Ввод:**\n",
    "\n",
    "```\n",
    "42\n",
    "```\n",
    "\n",
    "**Вывод:**\n",
    "\n",
    "```\n",
    "42424242424242424242424242424242424242424242424242424242424242424242424242424242424242424242424242424242424242424242424242424242424242424242424242424242424242424242424242424242424242424242424242424242\n",
    "1799816345270890725436179981634527089072543617998163452708907254361799816345270890725436179981634527089072543617998163452708907254361799816345270890725436179981634527089072543617998163452708907254361763820018365472910927456382001836547291092745638200183654729109274563820018365472910927456382001836547291092745638200183654729109274563820018365472910927456382001836547291092745638200183654729109274564\n",
    "```"
   ]
  },
  {
   "cell_type": "code",
   "metadata": {
    "id": "VDcFSgAtS_kD",
    "ExecuteTime": {
     "end_time": "2025-04-04T19:37:35.574707Z",
     "start_time": "2025-04-04T19:37:33.183312Z"
    }
   },
   "source": [
    "n = int(input('Введите число n: '))"
   ],
   "outputs": [],
   "execution_count": 25
  },
  {
   "cell_type": "code",
   "metadata": {
    "id": "ORxlMF5XoHaf",
    "ExecuteTime": {
     "end_time": "2025-04-04T19:37:36.573620Z",
     "start_time": "2025-04-04T19:37:36.570976Z"
    }
   },
   "source": [
    "result = str(n) * 100               \n",
    "square = int(result) ** 2      \n",
    "print(result)                  \n",
    "print(square)                  "
   ],
   "outputs": [
    {
     "name": "stdout",
     "output_type": "stream",
     "text": [
      "1111111111111111111111111111111111111111111111111111111111111111111111111111111111111111111111111111\n",
      "1234567901234567901234567901234567901234567901234567901234567901234567901234567901234567901234567900987654320987654320987654320987654320987654320987654320987654320987654320987654320987654320987654321\n"
     ]
    }
   ],
   "execution_count": 26
  },
  {
   "cell_type": "markdown",
   "metadata": {
    "id": "LZFh27IYoH-M"
   },
   "source": [
    "### Задача 4 (1). Проверка палиндрома\n",
    "\n",
    "Напишите проверку, является ли строка палиндромом. Палиндром — это слово или фраза, которые одинаково читаются слева направо и справа налево."
   ]
  },
  {
   "cell_type": "markdown",
   "metadata": {
    "id": "kZiGtagN0rn1"
   },
   "source": [
    "#### Пример\n",
    "\n",
    "**Ввод:**\n",
    "\n",
    "```\n",
    "saippuakivikauppias\n",
    "```\n",
    "\n",
    "**Вывод:**\n",
    "\n",
    "```\n",
    "True\n",
    "```"
   ]
  },
  {
   "cell_type": "code",
   "metadata": {
    "id": "dbmC6TJNTERJ",
    "scrolled": true,
    "ExecuteTime": {
     "end_time": "2025-04-04T19:37:42.358905Z",
     "start_time": "2025-04-04T19:37:38.859369Z"
    }
   },
   "source": [
    "string = input('Введите строку для проверки: ')"
   ],
   "outputs": [],
   "execution_count": 27
  },
  {
   "cell_type": "code",
   "metadata": {
    "id": "g7lxAS0KoJEj",
    "ExecuteTime": {
     "end_time": "2025-04-04T19:37:43.194578Z",
     "start_time": "2025-04-04T19:37:43.189053Z"
    }
   },
   "source": [
    "is_palindrome = True\n",
    "length = len(string)\n",
    "\n",
    "for i in range(length // 2):\n",
    "    if string[i] != string[length - 1 - i]:\n",
    "        is_palindrome = False\n",
    "        break\n",
    "\n",
    "if is_palindrome:\n",
    "    print(\"Слово является палиндромом.\")\n",
    "else:\n",
    "    print(\"Слово не является палиндромом.\")"
   ],
   "outputs": [
    {
     "name": "stdout",
     "output_type": "stream",
     "text": [
      "Слово является палиндромом.\n"
     ]
    }
   ],
   "execution_count": 28
  },
  {
   "cell_type": "code",
   "metadata": {
    "id": "HuF1LjypSTn9",
    "ExecuteTime": {
     "end_time": "2025-04-04T19:37:44.377255Z",
     "start_time": "2025-04-04T19:37:44.374671Z"
    }
   },
   "source": [
    "# дополнительная ячейка для решения в одну строку"
   ],
   "outputs": [],
   "execution_count": 29
  },
  {
   "cell_type": "markdown",
   "metadata": {
    "id": "0dG5QsDnoJw4"
   },
   "source": [
    "### Задача 5 (0.5). Преобразования времени\n",
    "\n",
    "Преобразуйте количество секунд в формат `дни:часы:минуты:секунды` (без использования `datetime`)."
   ]
  },
  {
   "cell_type": "markdown",
   "metadata": {
    "id": "oFDgkaCb1gjT"
   },
   "source": [
    "#### Пример\n",
    "\n",
    "**Ввод:**\n",
    "\n",
    "```\n",
    "90061\n",
    "```\n",
    "\n",
    "**Вывод:**\n",
    "\n",
    "```\n",
    "1:1:1:1\n",
    "```"
   ]
  },
  {
   "cell_type": "code",
   "metadata": {
    "id": "riZL3l86TJ2Z",
    "ExecuteTime": {
     "end_time": "2025-04-04T19:37:49.660658Z",
     "start_time": "2025-04-04T19:37:46.375044Z"
    }
   },
   "source": [
    "seconds = int(input(\"Введите число секунд: \"))"
   ],
   "outputs": [],
   "execution_count": 30
  },
  {
   "cell_type": "code",
   "metadata": {
    "id": "hZ9eY7HsoKyd",
    "ExecuteTime": {
     "end_time": "2025-04-04T19:37:50.393060Z",
     "start_time": "2025-04-04T19:37:50.389733Z"
    }
   },
   "source": [
    "days = seconds // 86400\n",
    "remaining_seconds = seconds % 86400\n",
    "\n",
    "hours = remaining_seconds // 3600\n",
    "remaining_seconds = remaining_seconds % 3600\n",
    "\n",
    "minutes = remaining_seconds // 60\n",
    "seconds = remaining_seconds % 60\n",
    "\n",
    "time = f\"{days}:{hours}:{minutes}:{seconds}\"\n",
    "print(time)"
   ],
   "outputs": [
    {
     "name": "stdout",
     "output_type": "stream",
     "text": [
      "0:0:0:12\n"
     ]
    }
   ],
   "execution_count": 31
  },
  {
   "cell_type": "markdown",
   "metadata": {
    "id": "RONwF247oOGw"
   },
   "source": [
    "### Задача 6 (0.5). Расширение файла\n",
    "\n",
    "Вы получаете на вход имя файла. Необходимо вывести его расширение. Если расширения у файла нет, выводите `\"Нет расширения\"`.\n",
    "\n",
    "Под разрешением файла понимают определённую последовательность букв или цифр, отделенную от основного имени файла точкой.\n",
    "\n",
    "**Примечание:**\n",
    "- для файла `not_a_virus.jpg.exe` расширением является `.exe`, а не `.jpg.exe`."
   ]
  },
  {
   "cell_type": "markdown",
   "metadata": {
    "id": "LTt6E0kH1xRk"
   },
   "source": [
    "#### Пример\n",
    "\n",
    "**Ввод:**\n",
    "\n",
    "```\n",
    "absolutely_not_a_virus.exe\n",
    "```\n",
    "\n",
    "**Вывод:**\n",
    "\n",
    "```\n",
    ".exe\n",
    "```"
   ]
  },
  {
   "cell_type": "code",
   "metadata": {
    "id": "vtdlFYq6Ei3o",
    "ExecuteTime": {
     "end_time": "2025-04-04T19:37:54.216874Z",
     "start_time": "2025-04-04T19:37:52.199171Z"
    }
   },
   "source": [
    "filename = input(\"Введите имя файла: \")"
   ],
   "outputs": [],
   "execution_count": 32
  },
  {
   "cell_type": "code",
   "metadata": {
    "id": "GTrLU63FEu4F",
    "ExecuteTime": {
     "end_time": "2025-04-04T19:37:54.816680Z",
     "start_time": "2025-04-04T19:37:54.812870Z"
    }
   },
   "source": [
    "dot_index = -1\n",
    "\n",
    "for i in range(len(filename)):\n",
    "    if filename[i] == '.':\n",
    "        dot_index = i\n",
    "\n",
    "if dot_index != -1 and dot_index != len(filename) - 1:\n",
    "    extension = filename[dot_index:]\n",
    "else:\n",
    "    extension = \"Нет расширения\"  # если точка не найдена или она последняя\n",
    "\n",
    "print(extension)"
   ],
   "outputs": [
    {
     "name": "stdout",
     "output_type": "stream",
     "text": [
      "Нет расширения\n"
     ]
    }
   ],
   "execution_count": 33
  },
  {
   "cell_type": "markdown",
   "metadata": {
    "id": "FF0C3-cTp0uy"
   },
   "source": [
    "### Задача 7 (0.2). Циклический сдвиг\n",
    "\n",
    "Вам даны четыре переменные `a`, `b`, `c`, `d` и четыре принта. Ваша задача вставить между принтами **одинаковую** строку кода, чтобы вывод после ячейки был как в примере."
   ]
  },
  {
   "cell_type": "markdown",
   "metadata": {
    "id": "VXdwo36R1929"
   },
   "source": [
    "#### Пример\n",
    "\n",
    "**Вывод:**\n",
    "\n",
    "```\n",
    "100 200 300 400\n",
    "400 100 200 300\n",
    "300 400 100 200\n",
    "200 300 400 100\n",
    "```"
   ]
  },
  {
   "cell_type": "code",
   "metadata": {
    "id": "1AQTtLCN3IzB",
    "ExecuteTime": {
     "end_time": "2025-04-04T19:37:59.935522Z",
     "start_time": "2025-04-04T19:37:59.931473Z"
    }
   },
   "source": [
    "a, b, c, d = 100, 200, 300, 400\n",
    "\n",
    "print(a, b, c, d)\n",
    "# ваш код тут\n",
    "print(a, b, c, d)\n",
    "# ваш код тут\n",
    "print(a, b, c, d)\n",
    "# ваш код тут\n",
    "print(a, b, c, d)"
   ],
   "outputs": [
    {
     "name": "stdout",
     "output_type": "stream",
     "text": [
      "100 200 300 400\n",
      "100 200 300 400\n",
      "100 200 300 400\n",
      "100 200 300 400\n"
     ]
    }
   ],
   "execution_count": 34
  },
  {
   "cell_type": "markdown",
   "metadata": {
    "id": "-Gnp9ECbX_9K"
   },
   "source": [
    "Напишите, как называются механизмы Python'а, которые позволяют так сделать.\n",
    "\n",
    "**Ответ:**\n",
    "Это использует механизм множественного присваивания и распаковки кортежей в Python. Этот механизм позволяет одновременно присваивать значения нескольким переменным и обменивать их значениями без необходимости использования временных переменных."
   ]
  },
  {
   "cell_type": "markdown",
   "metadata": {
    "id": "I2x5B2_Np9kO"
   },
   "source": [
    "### Задача 8 (0.3). Уникальное содержимое\n",
    "\n",
    "Вы получаете на вход строку. Нужно проверить, все ли символы в ней уникальны (встречаются в строке только один раз), и вывести `True`, если все символы уникальные, иначе `False`.\n",
    "\n",
    " **Примечание:** `set` использовать нельзя."
   ]
  },
  {
   "cell_type": "markdown",
   "metadata": {
    "id": "XELI_NG82FMH"
   },
   "source": [
    "#### Пример\n",
    "\n",
    "**Ввод:**\n",
    "\n",
    "```\n",
    "эй,жлоб!Гдетуз?Прячьюныхсъёмщицвшкаф.\n",
    "```\n",
    "\n",
    "**Вывод:**\n",
    "\n",
    "```\n",
    "True\n",
    "```"
   ]
  },
  {
   "cell_type": "code",
   "metadata": {
    "id": "f9t98R-5EUU4",
    "ExecuteTime": {
     "end_time": "2025-04-04T19:39:50.523681Z",
     "start_time": "2025-04-04T19:39:46.433164Z"
    }
   },
   "source": [
    "string = input(\"Введите строку: \")"
   ],
   "outputs": [],
   "execution_count": 35
  },
  {
   "cell_type": "code",
   "metadata": {
    "id": "gsiB8H61p_Bb",
    "ExecuteTime": {
     "end_time": "2025-04-04T19:39:54.100930Z",
     "start_time": "2025-04-04T19:39:54.097500Z"
    }
   },
   "source": [
    "def are_characters_unique(string):\n",
    "    seen_characters = []  \n",
    "    for char in string:\n",
    "        if char in seen_characters:\n",
    "            return False\n",
    "        seen_characters.append(char)\n",
    "    return True\n",
    "\n",
    "print(are_characters_unique(string))"
   ],
   "outputs": [
    {
     "name": "stdout",
     "output_type": "stream",
     "text": [
      "True\n"
     ]
    }
   ],
   "execution_count": 36
  },
  {
   "cell_type": "code",
   "metadata": {
    "id": "2zGBuwwVS7NG",
    "ExecuteTime": {
     "end_time": "2025-04-04T19:39:54.671309Z",
     "start_time": "2025-04-04T19:39:54.668364Z"
    }
   },
   "source": [
    "# дополнительная ячейка для решения с set в одну строку"
   ],
   "outputs": [],
   "execution_count": 37
  },
  {
   "cell_type": "markdown",
   "metadata": {
    "id": "Dj3SgDdLahaZ",
    "jp-MarkdownHeadingCollapsed": true
   },
   "source": [
    "### Задача 9 (3). Простой анализ Остапа Бендера\n",
    "\n",
    "Сначала прочитайте задачу целиком.\n",
    "\n",
    "От биржи вам приходят данные в виде потока сообщений со средней ценой за день торгов акциями компании \"Рога и копыта\" за все время:\n",
    "\n",
    "- В первой строке средняя цена акции в первый день торгов.\n",
    "- В следующих строках изменение относительно предыдущего дня в виде сообщений в следующем формате (числа могут отличаться, быть вещественными, но строго положительными):\n",
    "\n",
    "    - `МЕНЬШЕ100`, если цена понизилась на 100\n",
    "    - `БОЛЬШЕ200`, если цена увеличилась на 200\n",
    "    - `БЕЗ_ИЗМЕНЕНИЙ`, если цена не изменилась.\n",
    "\n",
    "- Известно, что иногда бывают ошибочные сообщения. Понять, что произошла ошибка довольно легко: в таких случаях цена будто достигла 0 или даже опустилась ниже. Тогда надо просто считать, что на самом деле она не менялась по сравнению с предыдущим днем.\n",
    "- В самом последнем сообщении приходит один символ `'#'`, что означает сегодняшний день, но так как он еще не закончился, то окончательное изменение относительно вчерашнего дня неизвестно.\n",
    "\n",
    "Пример: 1) 100 2) БОЛЬШЕ200 3) # - то есть начались торги позавчера и средняя цена за позавчера была 100, вчера средняя цена была 300, а сегодня торги еще идут.\n",
    "\n",
    "Ваш брокер Александр Иванович только что прислал вам следующее сообщение:\n",
    "\n",
    "> Сейчас цена равна 0.6 * \\<мин\\_за\\_весь\\_период> + 0.4 * \\<макс\\_за\\_весь_период>\n",
    "\n",
    "При этом ваш друг - трейдер Остап - сказал вам по телефону следующую стратегию торговли акциями компании \"Рога и копыта\" на сегодняшний день:\n",
    "\n",
    "> Если сейчас цена:\n",
    "- ниже средней за все предыдущие дни более чем в два раза, то надо срочно докупить 10 акций\n",
    "- ниже средней за все предыдущие дни более чем в полтора раза, то надо срочно докупить 7 акций\n",
    "- выше средней за все предыдущие дни более чем в полтора раза, то надо срочно продать 6 акции\n",
    "- выше средней за все предыдущие дни более чем на 20%, то надо срочно продать 3 акции\n",
    "\n",
    "Вы целиком и полностью доверяете Остапу, ведь раньше он вас не подводил и в целом создает впечатление глубоко разбирающегося человека.\n",
    "\n",
    "Так как компания \"Рога и копыта\" появилась очень давно и почти с первых дней существования торгуется на бирже - вручную проанализировать такой объем не получится, но вы как раз недавно начали изучать Python и полученных знаний уже достаточно, чтобы заставить интерпретатор сделать всю грязную работу за вас.\n",
    "\n",
    "Считайте, что вы не можете складывать сообщения биржи в список (или сохранять еще каким-нибудь способом), так как возможна ситуация, что **оперативной памяти не хватит**.\n",
    "\n",
    "**Ваша задача**:\n",
    "\n",
    "Отправить брокеру Александру Ивановичу, который слушает стандартный поток ошибок, распоряжение с одним словом КУПИТЬ, ПРОДАТЬ или ДЕРЖАТЬ, далее через нижнее подчеркивание соответствующее число акций (в последнем случае отправляется только слово).\n",
    "\n",
    "**Примечание:**\n",
    "\n",
    "- называйте переменные осмысленными именами\n",
    "- формат ввода и вывода описаны в тексте задачи\n",
    "- решайте задачу постепенно\n",
    "- проверяйте, что вы ничего не пропустили, перечитывая условие\n",
    "- у вас больше 6 акций компании \"Рога и копыта\"\n",
    "- в реальной жизни стратегиям Остапа лучше не доверять\n",
    "- возможно в таком странном формате работы биржи и ошибках в сообщениях виноват один из ее учредителей, который в документах указан как Б. Остап...\n",
    "\n",
    "**Подсказка:** сохранять цены за все дни нельзя, но может это и не нужно, ведь у нас есть формат последнего сообщения!"
   ]
  },
  {
   "metadata": {
    "ExecuteTime": {
     "end_time": "2025-04-04T19:40:39.496257Z",
     "start_time": "2025-04-04T19:40:13.734674Z"
    }
   },
   "cell_type": "code",
   "source": [
    "import sys\n",
    "\n",
    "# Читаем начальную цену\n",
    "initial_price = float(input())\n",
    "current_price = initial_price\n",
    "min_price = initial_price\n",
    "max_price = initial_price\n",
    "total_price = initial_price\n",
    "days_count = 1\n",
    "\n",
    "# Обрабатываем поток сообщений\n",
    "while True:\n",
    "    message = input()\n",
    "\n",
    "    if message == '#':\n",
    "        break\n",
    "\n",
    "    # Вычисляем изменение цены\n",
    "    if message == 'БЕЗ_ИЗМЕНЕНИЙ':\n",
    "        price_change = 0\n",
    "    elif message.startswith('БОЛЬШЕ'):\n",
    "        price_change = float(message[6:])\n",
    "    elif message.startswith('МЕНЬШЕ'):\n",
    "        price_change = -float(message[6:])\n",
    "    else:\n",
    "        continue  # Неверный формат сообщения\n",
    "\n",
    "    # Обновляем текущую цену и обрабатываем ошибки\n",
    "    new_price = current_price + price_change\n",
    "    if new_price <= 0:\n",
    "        # Ошибочное сообщение, цена не меняется\n",
    "        new_price = current_price\n",
    "\n",
    "    current_price = new_price\n",
    "    days_count += 1\n",
    "\n",
    "    # Обновляем минимальную и максимальную цены\n",
    "    min_price = min(min_price, current_price)\n",
    "    max_price = max(max_price, current_price)\n",
    "\n",
    "    # Обновляем общую сумму цен для последующего расчета среднего\n",
    "    total_price += current_price\n",
    "\n",
    "# Вычисляем среднюю цену за все предыдущие дни\n",
    "average_price = total_price / days_count\n",
    "\n",
    "# Вычисляем текущую цену по формуле брокера\n",
    "current_price = 0.6 * min_price + 0.4 * max_price\n",
    "\n",
    "# Определяем действие на основе стратегии Остапа\n",
    "if current_price < average_price / 2:\n",
    "    action = \"КУПИТЬ_10\"\n",
    "elif current_price < average_price / 1.5:\n",
    "    action = \"КУПИТЬ_7\"\n",
    "elif current_price > average_price * 1.5:\n",
    "    action = \"ПРОДАТЬ_6\"\n",
    "elif current_price > average_price * 1.2:\n",
    "    action = \"ПРОДАТЬ_3\"\n",
    "else:\n",
    "    action = \"ДЕРЖАТЬ\"\n",
    "\n",
    "# Отправляем действие в стандартный поток ошибок\n",
    "print(action, file=sys.stderr)"
   ],
   "outputs": [
    {
     "ename": "KeyboardInterrupt",
     "evalue": "Interrupted by user",
     "output_type": "error",
     "traceback": [
      "\u001B[0;31m---------------------------------------------------------------------------\u001B[0m",
      "\u001B[0;31mKeyboardInterrupt\u001B[0m                         Traceback (most recent call last)",
      "Cell \u001B[0;32mIn[38], line 13\u001B[0m\n\u001B[1;32m     11\u001B[0m \u001B[38;5;66;03m# Обрабатываем поток сообщений\u001B[39;00m\n\u001B[1;32m     12\u001B[0m \u001B[38;5;28;01mwhile\u001B[39;00m \u001B[38;5;28;01mTrue\u001B[39;00m:\n\u001B[0;32m---> 13\u001B[0m     сообщение \u001B[38;5;241m=\u001B[39m \u001B[38;5;28;43minput\u001B[39;49m\u001B[43m(\u001B[49m\u001B[43m)\u001B[49m\n\u001B[1;32m     15\u001B[0m     \u001B[38;5;28;01mif\u001B[39;00m сообщение \u001B[38;5;241m==\u001B[39m \u001B[38;5;124m'\u001B[39m\u001B[38;5;124m#\u001B[39m\u001B[38;5;124m'\u001B[39m:\n\u001B[1;32m     16\u001B[0m         \u001B[38;5;28;01mbreak\u001B[39;00m\n",
      "File \u001B[0;32m~/PyCharmMiscProject/.venv/lib/python3.12/site-packages/ipykernel/kernelbase.py:1282\u001B[0m, in \u001B[0;36mKernel.raw_input\u001B[0;34m(self, prompt)\u001B[0m\n\u001B[1;32m   1280\u001B[0m     msg \u001B[38;5;241m=\u001B[39m \u001B[38;5;124m\"\u001B[39m\u001B[38;5;124mraw_input was called, but this frontend does not support input requests.\u001B[39m\u001B[38;5;124m\"\u001B[39m\n\u001B[1;32m   1281\u001B[0m     \u001B[38;5;28;01mraise\u001B[39;00m StdinNotImplementedError(msg)\n\u001B[0;32m-> 1282\u001B[0m \u001B[38;5;28;01mreturn\u001B[39;00m \u001B[38;5;28;43mself\u001B[39;49m\u001B[38;5;241;43m.\u001B[39;49m\u001B[43m_input_request\u001B[49m\u001B[43m(\u001B[49m\n\u001B[1;32m   1283\u001B[0m \u001B[43m    \u001B[49m\u001B[38;5;28;43mstr\u001B[39;49m\u001B[43m(\u001B[49m\u001B[43mprompt\u001B[49m\u001B[43m)\u001B[49m\u001B[43m,\u001B[49m\n\u001B[1;32m   1284\u001B[0m \u001B[43m    \u001B[49m\u001B[38;5;28;43mself\u001B[39;49m\u001B[38;5;241;43m.\u001B[39;49m\u001B[43m_parent_ident\u001B[49m\u001B[43m[\u001B[49m\u001B[38;5;124;43m\"\u001B[39;49m\u001B[38;5;124;43mshell\u001B[39;49m\u001B[38;5;124;43m\"\u001B[39;49m\u001B[43m]\u001B[49m\u001B[43m,\u001B[49m\n\u001B[1;32m   1285\u001B[0m \u001B[43m    \u001B[49m\u001B[38;5;28;43mself\u001B[39;49m\u001B[38;5;241;43m.\u001B[39;49m\u001B[43mget_parent\u001B[49m\u001B[43m(\u001B[49m\u001B[38;5;124;43m\"\u001B[39;49m\u001B[38;5;124;43mshell\u001B[39;49m\u001B[38;5;124;43m\"\u001B[39;49m\u001B[43m)\u001B[49m\u001B[43m,\u001B[49m\n\u001B[1;32m   1286\u001B[0m \u001B[43m    \u001B[49m\u001B[43mpassword\u001B[49m\u001B[38;5;241;43m=\u001B[39;49m\u001B[38;5;28;43;01mFalse\u001B[39;49;00m\u001B[43m,\u001B[49m\n\u001B[1;32m   1287\u001B[0m \u001B[43m\u001B[49m\u001B[43m)\u001B[49m\n",
      "File \u001B[0;32m~/PyCharmMiscProject/.venv/lib/python3.12/site-packages/ipykernel/kernelbase.py:1325\u001B[0m, in \u001B[0;36mKernel._input_request\u001B[0;34m(self, prompt, ident, parent, password)\u001B[0m\n\u001B[1;32m   1322\u001B[0m \u001B[38;5;28;01mexcept\u001B[39;00m \u001B[38;5;167;01mKeyboardInterrupt\u001B[39;00m:\n\u001B[1;32m   1323\u001B[0m     \u001B[38;5;66;03m# re-raise KeyboardInterrupt, to truncate traceback\u001B[39;00m\n\u001B[1;32m   1324\u001B[0m     msg \u001B[38;5;241m=\u001B[39m \u001B[38;5;124m\"\u001B[39m\u001B[38;5;124mInterrupted by user\u001B[39m\u001B[38;5;124m\"\u001B[39m\n\u001B[0;32m-> 1325\u001B[0m     \u001B[38;5;28;01mraise\u001B[39;00m \u001B[38;5;167;01mKeyboardInterrupt\u001B[39;00m(msg) \u001B[38;5;28;01mfrom\u001B[39;00m \u001B[38;5;28;01mNone\u001B[39;00m\n\u001B[1;32m   1326\u001B[0m \u001B[38;5;28;01mexcept\u001B[39;00m \u001B[38;5;167;01mException\u001B[39;00m:\n\u001B[1;32m   1327\u001B[0m     \u001B[38;5;28mself\u001B[39m\u001B[38;5;241m.\u001B[39mlog\u001B[38;5;241m.\u001B[39mwarning(\u001B[38;5;124m\"\u001B[39m\u001B[38;5;124mInvalid Message:\u001B[39m\u001B[38;5;124m\"\u001B[39m, exc_info\u001B[38;5;241m=\u001B[39m\u001B[38;5;28;01mTrue\u001B[39;00m)\n",
      "\u001B[0;31mKeyboardInterrupt\u001B[0m: Interrupted by user"
     ]
    }
   ],
   "execution_count": 38
  },
  {
   "cell_type": "markdown",
   "metadata": {
    "id": "rO-Amdrhbfc5"
   },
   "source": [
    "### Задача 10 (1). Частичный разворот\n",
    "\n",
    "Вы принимаете на вход строку. Необходимо:\n",
    "\n",
    "1. создать ее копию, в которой символы исходной с **нечетными индексами** переставлены в обратном порядке\n",
    "2. вывести получившуюся строку"
   ]
  },
  {
   "cell_type": "markdown",
   "metadata": {
    "id": "j7r_BtmI3SkH"
   },
   "source": [
    "#### Пример\n",
    "\n",
    "**Ввод:**\n",
    "\n",
    "```\n",
    "0123456789\n",
    "```\n",
    "\n",
    "**Вывод:**\n",
    "\n",
    "```\n",
    "0927456381\n",
    "```"
   ]
  },
  {
   "cell_type": "code",
   "execution_count": 3,
   "metadata": {
    "id": "R--qKZF5Jv29"
   },
   "outputs": [
    {
     "name": "stdin",
     "output_type": "stream",
     "text": [
      "Введите строку:  0123456789\n"
     ]
    }
   ],
   "source": [
    "string = input(\"Введите строку: \")"
   ]
  },
  {
   "cell_type": "code",
   "metadata": {
    "id": "e3SdQqGLbnI9",
    "ExecuteTime": {
     "end_time": "2025-04-04T19:43:05.696886Z",
     "start_time": "2025-04-04T19:43:01.753483Z"
    }
   },
   "source": [
    "string = input(\"Введите строку: \")\n",
    "\n",
    "# Создаем новую строку, где символы с нечетными индексами переставлены в обратном порядке\n",
    "even_chars = \"\"  # Символы с четными индексами\n",
    "odd_chars = \"\"   # Символы с нечетными индексами\n",
    "\n",
    "for i in range(len(string)):\n",
    "    if i % 2 == 0:\n",
    "        even_chars += string[i]\n",
    "    else:\n",
    "        odd_chars = string[i] + odd_chars\n",
    "\n",
    "# Собираем результат, чередуя символы\n",
    "result = \"\"\n",
    "for i in range(len(even_chars)):\n",
    "    result += even_chars[i]\n",
    "    if i < len(odd_chars):\n",
    "        result += odd_chars[i]\n",
    "\n",
    "print(result)"
   ],
   "outputs": [
    {
     "name": "stdout",
     "output_type": "stream",
     "text": [
      "183654729\n"
     ]
    }
   ],
   "execution_count": 39
  },
  {
   "cell_type": "markdown",
   "metadata": {
    "id": "2wZ1A0ApyQA3"
   },
   "source": [
    "На этом задачи в данном задании закончились."
   ]
  }
 ],
 "metadata": {
  "colab": {
   "provenance": []
  },
  "kernelspec": {
   "display_name": "Python 3 (ipykernel)",
   "language": "python",
   "name": "python3"
  },
  "language_info": {
   "codemirror_mode": {
    "name": "ipython",
    "version": 3
   },
   "file_extension": ".py",
   "mimetype": "text/x-python",
   "name": "python",
   "nbconvert_exporter": "python",
   "pygments_lexer": "ipython3",
   "version": "3.12.7"
  }
 },
 "nbformat": 4,
 "nbformat_minor": 4
}
